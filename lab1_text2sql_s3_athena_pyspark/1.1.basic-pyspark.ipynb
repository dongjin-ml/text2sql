{
 "cells": [
  {
   "cell_type": "markdown",
   "id": "835c0035-2fab-44bb-97aa-2a900f970469",
   "metadata": {},
   "source": [
    "# Lab. 1 Text2SQL Basic (Pyspark & Amazon S3)\n",
    "\n",
    "#### 이 실습에서는 Text2SQL을 활용해서 S3에 저장된 데이터에 Spark 쿼리로 접근하는 방법을 실습합니다.\n",
    "\n",
    "#### Amazon S3에 저장된 로그나 데이터마트에 자연어로 데이터를 조회하려는 경우, Text2SQL 및 Spark을 사용할 수 있습니다.\n",
    "\n",
    "#### 여기서는 샘플 쿼리와 스키마 정보를 하나의 컨텍스트로 제공합니다. 데이터 접근 방식이 단순하고 사용자의 질문이 정형화 되어있는 경우, 이렇듯 가장 간단하게 Text2SQL을 시도할 수 있습니다."
   ]
  },
  {
   "cell_type": "markdown",
   "id": "6432ffe4-8784-43f4-a9ab-af03cdfb9195",
   "metadata": {},
   "source": [
    "## Step 0: 라이브러리 설치"
   ]
  },
  {
   "cell_type": "code",
   "execution_count": null,
   "id": "75f0f456-7b6c-4027-9c65-c636ccc28e27",
   "metadata": {
    "tags": []
   },
   "outputs": [],
   "source": [
    "!python -m ensurepip --upgrade\n",
    "!pip install \"sqlalchemy\" --quiet\n",
    "!pip install \"boto3>=1.34.116\"  --quiet\n",
    "!pip install \"jinja2\" --quiet\n",
    "!pip install \"botocore\" --quiet\n",
    "!pip install \"pandas\" --quiet\n",
    "!pip install \"PyAthena\" --quiet\n",
    "!pip install \"faiss-cpu\" --quiet\n",
    "!pip install \"awswrangler\" --quiet"
   ]
  },
  {
   "cell_type": "markdown",
   "id": "b26c09b3-ee3d-4e6c-b6f5-3652ac4d54d1",
   "metadata": {},
   "source": [
    "## Step 1: S3 데이터 생성"
   ]
  },
  {
   "cell_type": "code",
   "execution_count": null,
   "id": "42bfbd76-cd30-4431-8a82-a0626c5b3d1a",
   "metadata": {
    "tags": []
   },
   "outputs": [],
   "source": [
    "# Athena 결과를 PySpark로 가져오는 예시\n",
    "import os\n",
    "import pandas as pd\n",
    "import awswrangler as wr"
   ]
  },
  {
   "cell_type": "code",
   "execution_count": null,
   "id": "93a2f9a3-7eb8-430d-8031-d817af9da0fc",
   "metadata": {
    "tags": []
   },
   "outputs": [],
   "source": [
    "bucket_name = \"text2sql-db\" #<your bucket name>\n",
    "data_path = f\"s3://{bucket_name}/data\"\n",
    "results_path = f\"{bucket_name}/results\"\n",
    "db_name = \"text2sql\""
   ]
  },
  {
   "cell_type": "markdown",
   "id": "5fc6f485-6f05-459d-9f9d-a401c86b9d30",
   "metadata": {
    "tags": []
   },
   "source": [
    "### Checking/Creating Glue Catalog Databases"
   ]
  },
  {
   "cell_type": "code",
   "execution_count": null,
   "id": "a571f81c-5b38-480a-b941-489cd4172ef0",
   "metadata": {
    "tags": []
   },
   "outputs": [],
   "source": [
    "wr.catalog.delete_database(\"text2sql\")"
   ]
  },
  {
   "cell_type": "code",
   "execution_count": null,
   "id": "14150157-2936-46c3-8d4b-046ee9dd0230",
   "metadata": {
    "tags": []
   },
   "outputs": [],
   "source": [
    "if db_name not in wr.catalog.databases().values:\n",
    "    wr.catalog.create_database(db_name)\n",
    "    #wr.catalog.delete_database(\"text2sql\")"
   ]
  },
  {
   "cell_type": "markdown",
   "id": "e26d0257-6615-4869-bbee-cf7e0df4a0a0",
   "metadata": {
    "tags": []
   },
   "source": [
    "### Creating a Parquet Table from or parquet files"
   ]
  },
  {
   "cell_type": "code",
   "execution_count": null,
   "id": "8ddd1752-91f0-40bc-a009-539e568a66a4",
   "metadata": {
    "tags": []
   },
   "outputs": [],
   "source": [
    "import glob\n",
    "import sqlite3"
   ]
  },
  {
   "cell_type": "code",
   "execution_count": null,
   "id": "fac26a9f-2e26-4c8e-9fce-6cc136b9d3f2",
   "metadata": {
    "tags": []
   },
   "outputs": [],
   "source": [
    "conn = sqlite3.connect('Chinook.db')\n",
    "cursor = conn.cursor()\n",
    "\n",
    "def get_table_list():\n",
    "    cursor.execute(\"SELECT name FROM sqlite_master WHERE type='table';\")\n",
    "    tables = [table[0] for table in cursor.fetchall()]\n",
    "    return tables\n",
    "\n",
    "tables = get_table_list()\n",
    "print(\"Tables:\", tables)\n",
    "\n",
    "# 연결 종료\n",
    "conn.close()"
   ]
  },
  {
   "cell_type": "markdown",
   "id": "1a4d4fcb-2d38-4511-a2b5-6f5ac80dbd19",
   "metadata": {},
   "source": [
    "### Upload files to S3"
   ]
  },
  {
   "cell_type": "code",
   "execution_count": null,
   "id": "6ccd1a60-556c-4940-b965-343552f11312",
   "metadata": {
    "tags": []
   },
   "outputs": [],
   "source": [
    "import pandas as pd\n",
    "import pyarrow as pa\n",
    "\n",
    "for table in tables:\n",
    "    # 전체 테이블을 DataFrame으로 읽기\n",
    "    df = pd.read_sql_query(f'SELECT * FROM {table}', sqlite3.connect('Chinook.db'))\n",
    "    \n",
    "    wr.s3.to_parquet(\n",
    "        df=df,\n",
    "        path=os.path.join(data_path, table),\n",
    "        dataset=True,\n",
    "        mode=\"overwrite\",\n",
    "        database=\"text2sql\",\n",
    "        table=table\n",
    "    )\n",
    "    print (table)\n"
   ]
  },
  {
   "cell_type": "code",
   "execution_count": null,
   "id": "9440b912-38ff-4a70-b8e3-d2a72a165338",
   "metadata": {
    "tags": []
   },
   "outputs": [],
   "source": [
    "query = \"\"\"\n",
    "SELECT *\n",
    "FROM Album\n",
    "\"\"\"\n",
    "\n",
    "df = wr.athena.read_sql_query(\n",
    "    query,\n",
    "    database=\"text2sql\",\n",
    "    ctas_approach=False\n",
    ")\n",
    "df"
   ]
  },
  {
   "cell_type": "markdown",
   "id": "d66353b5-8942-4087-b1b3-c57af3fde533",
   "metadata": {},
   "source": [
    "## Step 2: Athena 연결"
   ]
  },
  {
   "cell_type": "code",
   "execution_count": null,
   "id": "2201c470-a24e-412e-a6bb-7f3977e6b886",
   "metadata": {
    "tags": []
   },
   "outputs": [],
   "source": [
    "import json\n",
    "import boto3\n",
    "import sys\n",
    "\n",
    "sys.path.append('../')\n",
    "from libs.din_sql import din_sql_lib as dsl"
   ]
  },
  {
   "cell_type": "code",
   "execution_count": null,
   "id": "68a516ee-daf5-4460-a4fb-8067cefec3aa",
   "metadata": {
    "tags": []
   },
   "outputs": [],
   "source": [
    "ATHENA_CATALOG_NAME = 'AwsDataCatalog'\n",
    "ATHENA_RESULTS_S3_LOCATION = results_path\n",
    "DB_NAME = db_name"
   ]
  },
  {
   "cell_type": "code",
   "execution_count": null,
   "id": "14d6d660-6f3c-429f-8cf9-2cca282f92d1",
   "metadata": {
    "tags": []
   },
   "outputs": [],
   "source": [
    "from libs.din_sql import din_sql_lib as dsl\n",
    "model_id = 'anthropic.claude-3-5-sonnet-20241022-v2:0'\n",
    "din_sql = dsl.DIN_SQL(bedrock_model_id=model_id)"
   ]
  },
  {
   "cell_type": "code",
   "execution_count": null,
   "id": "f8b27af7-ed37-498d-b3dc-4993f6e8805c",
   "metadata": {
    "tags": []
   },
   "outputs": [],
   "source": [
    "din_sql.athena_connect(\n",
    "    catalog_name=ATHENA_CATALOG_NAME, \n",
    "    db_name=DB_NAME, \n",
    "    s3_prefix=ATHENA_RESULTS_S3_LOCATION\n",
    ")"
   ]
  },
  {
   "cell_type": "markdown",
   "id": "4334adf7-c295-4174-a869-c63058bf6c64",
   "metadata": {},
   "source": [
    "## Step 3: 프롬프트 구성"
   ]
  },
  {
   "cell_type": "code",
   "execution_count": null,
   "id": "95aab01c-5a1f-4a61-8a4c-1e3e54b7b613",
   "metadata": {
    "tags": []
   },
   "outputs": [],
   "source": [
    "return_sql= din_sql.find_fields(db_name=DB_NAME)\n",
    "print(return_sql)"
   ]
  },
  {
   "cell_type": "code",
   "execution_count": null,
   "id": "b9b9d559-2631-4ded-9fda-c24679d0b249",
   "metadata": {
    "scrolled": true,
    "tags": []
   },
   "outputs": [],
   "source": [
    "import os\n",
    "import os\n",
    "import jinja2 as j\n",
    "\n",
    "question = \"Which customer spent the most money in the web store?\"\n",
    "\n",
    "instructions_tag_start = '<instructions>'\n",
    "instructions_tag_end = '</instructions>'\n",
    "example_tag_start = '<example>'\n",
    "example_tag_end = '</example>'\n",
    "sql_tag_start = '```sql'\n",
    "sql_tag_end = '```'\n",
    "\n",
    "template_dir = \"../libs/din_sql/prompt_templates\"\n",
    "\n",
    "template_file = os.path.join(template_dir, 'basic_prompt_pyspark.txt.jinja')\n",
    "if not os.path.isfile(template_file):\n",
    "    raise FileNotFoundError(f\"Template file '{template_file}' not found\")\n",
    "\n",
    "JINJA_ENV = j.Environment(\n",
    "    loader=j.FileSystemLoader(template_dir),\n",
    "    autoescape=j.select_autoescape(\n",
    "        enabled_extensions=('jinja'),\n",
    "        default_for_string=True,\n",
    "    )\n",
    ")\n",
    "\n",
    "easy_prompt = JINJA_ENV.get_template('basic_prompt_pyspark.txt.jinja')\n",
    "prompt = easy_prompt.render(\n",
    "    instruction_tag_start=instructions_tag_start,\n",
    "    instruction_tag_end=instructions_tag_end,\n",
    "    fields=return_sql,\n",
    "    example_tag_start=example_tag_start,\n",
    "    example_tag_end=example_tag_end,\n",
    "    test_sample_text=question,\n",
    "    sql_tag_start=sql_tag_start,\n",
    "    sql_tag_end=sql_tag_end\n",
    ")\n",
    "print(prompt)"
   ]
  },
  {
   "cell_type": "markdown",
   "id": "0ba5190e-9175-45c9-9e60-77dc2bce1536",
   "metadata": {},
   "source": [
    "## Step 4: LLM을 사용해 쿼리 생성"
   ]
  },
  {
   "cell_type": "code",
   "execution_count": null,
   "id": "938cd9e4-17cd-4df0-9fd6-f61c4b4e01ee",
   "metadata": {
    "tags": []
   },
   "outputs": [],
   "source": [
    "import json\n",
    "import boto3\n",
    "\n",
    "bedrock_client = boto3.client(service_name='bedrock-runtime')\n",
    "\n",
    "def llm_generation(prompt, stop_sequences=[], word_in_mouth=None):\n",
    "    user_message =  {\"role\": \"user\", \"content\": prompt}\n",
    "    messages = [user_message]\n",
    "    if word_in_mouth:\n",
    "        messages.append({\n",
    "            \"role\": \"assistant\",\n",
    "            \"content\": word_in_mouth,\n",
    "        })\n",
    "    response = bedrock_client.invoke_model(\n",
    "        modelId=model_id,\n",
    "        body=json.dumps({\n",
    "            \"anthropic_version\": \"bedrock-2023-05-31\",\n",
    "            \"messages\": messages,\n",
    "            \"temperature\": 0,\n",
    "            \"max_tokens\": 8000,\n",
    "            \"stop_sequences\": stop_sequences,\n",
    "            })\n",
    "    )\n",
    "    response_dict = json.loads(response.get('body').read().decode(\"utf-8\"))\n",
    "    results = response_dict[\"content\"][0][\"text\"]\n",
    "    return results\n",
    "\n",
    "sql_qry = llm_generation(prompt)"
   ]
  },
  {
   "cell_type": "code",
   "execution_count": null,
   "id": "b58102c8-2534-4547-92e4-926c388179f9",
   "metadata": {
    "tags": []
   },
   "outputs": [],
   "source": [
    "from pprint import pprint"
   ]
  },
  {
   "cell_type": "code",
   "execution_count": null,
   "id": "af266725-42be-4eac-9527-8339d88dfd49",
   "metadata": {
    "tags": []
   },
   "outputs": [],
   "source": [
    "pprint (sql_qry)"
   ]
  },
  {
   "cell_type": "code",
   "execution_count": null,
   "id": "9fc30fb8-00d1-45cc-86d6-24155a858492",
   "metadata": {
    "tags": []
   },
   "outputs": [],
   "source": [
    "SQL = sql_qry.split('```sql')[1].split('```')[0].strip()\n",
    "print(f\"{SQL}\")"
   ]
  },
  {
   "cell_type": "code",
   "execution_count": null,
   "id": "88b2c8e8-248c-444d-b363-b1cb05a0c12f",
   "metadata": {},
   "outputs": [],
   "source": []
  }
 ],
 "metadata": {
  "kernelspec": {
   "display_name": "conda_python3",
   "language": "python",
   "name": "conda_python3"
  },
  "language_info": {
   "codemirror_mode": {
    "name": "ipython",
    "version": 3
   },
   "file_extension": ".py",
   "mimetype": "text/x-python",
   "name": "python",
   "nbconvert_exporter": "python",
   "pygments_lexer": "ipython3",
   "version": "3.10.15"
  }
 },
 "nbformat": 4,
 "nbformat_minor": 5
}
