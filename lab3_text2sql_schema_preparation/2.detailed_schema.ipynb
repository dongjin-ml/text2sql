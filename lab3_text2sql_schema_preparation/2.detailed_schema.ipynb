{
 "cells": [
  {
   "cell_type": "markdown",
   "id": "cde141b9-c4c6-44b0-b939-2a8dca3b27fb",
   "metadata": {
    "tags": []
   },
   "source": [
    "# Lab. 3-1 Schema Preparation-2\n",
    "\n",
    "이 노트북에서는 아래 그림의 `3. Table Summarizer` 과정을 수행합니다. \n",
    "\n",
    "일반적인 Schema Linking 과정이 테이블 선택 -> 컬럼 선택으로 나눠 진행되는데, 테이블 선택이 잘못되면 후속 과정은 무의미하기 때문에 각 테이블에 대한 충분한 설명을 갖추는 것이 중요합니다.\n",
    "\n",
    "이 노트북에서는 LLM을 활용해 테이블에 대한 자세한 설명 문서를 갖추는 과정을 시뮬레이션 합니다.\n",
    "\n",
    "![Intro](../images/text2sql/schema-prep-1.png)\n"
   ]
  },
  {
   "cell_type": "code",
   "execution_count": 1,
   "id": "df497ded",
   "metadata": {},
   "outputs": [],
   "source": [
    "import sys, os\n",
    "module_path = \"..\"\n",
    "sys.path.append(os.path.abspath(module_path))"
   ]
  },
  {
   "cell_type": "code",
   "execution_count": 14,
   "id": "3f2a05c3",
   "metadata": {},
   "outputs": [],
   "source": [
    "from libs.common_utils import retry\n",
    "from botocore.exceptions import ClientError"
   ]
  },
  {
   "cell_type": "markdown",
   "id": "bf9d4222-ceff-47ea-b491-8adac0f315d8",
   "metadata": {},
   "source": [
    "## Step 0: OpenSearch 환경 설정"
   ]
  },
  {
   "cell_type": "code",
   "execution_count": 2,
   "id": "52c70963-24c8-4a71-8529-37ed362b5f58",
   "metadata": {
    "tags": []
   },
   "outputs": [
    {
     "name": "stdout",
     "output_type": "stream",
     "text": [
      "https://https://search-rag-hol-1379d7f0-oxnizb4mkve2hr7542ckzzqqs4.us-west-2.es.amazonaws.com\n"
     ]
    }
   ],
   "source": [
    "import sys\n",
    "from libs.ssm import parameter_store\n",
    "\n",
    "pm = parameter_store('us-west-2')\n",
    "domain_endpoint = pm.get_params(key=\"opensearch_domain_endpoint\", enc=False)\n",
    "opensearch_domain_endpoint = f\"https://{domain_endpoint}\"\n",
    "opensearch_user_id = pm.get_params(key=\"opensearch_user_id\", enc=False)\n",
    "opensearch_user_password = pm.get_params(key=\"opensearch_user_password\", enc=True)\n",
    "print(opensearch_domain_endpoint)"
   ]
  },
  {
   "cell_type": "markdown",
   "id": "c0ed1666-159c-42f4-9664-84161e1fdbd9",
   "metadata": {},
   "source": [
    "## Step 1: Schema Description 및 Example Queries 로드"
   ]
  },
  {
   "cell_type": "code",
   "execution_count": 3,
   "id": "f6749a59-1105-49ce-9601-1bdb91d7fe50",
   "metadata": {
    "tags": []
   },
   "outputs": [],
   "source": [
    "import json \n",
    "SCHEMA_FILE_PATH = \"./chinook_schema.json\"\n",
    "SAMPLE_QUERY_FILE_PATH = \"./example_queries_temp.jsonl\"\n",
    "\n",
    "def load_schema(file_path):\n",
    "    with open(file_path, 'r', encoding='utf-8') as file:\n",
    "        schema = json.load(file)\n",
    "    return schema\n",
    "\n",
    "def load_queries(file_path):\n",
    "    with open(file_path, 'r', encoding='utf-8') as file:\n",
    "        queries = file.readlines()\n",
    "    return queries\n",
    "\n",
    "schema = load_schema(SCHEMA_FILE_PATH)\n",
    "queries = load_queries(SAMPLE_QUERY_FILE_PATH)"
   ]
  },
  {
   "cell_type": "markdown",
   "id": "048a650d-2612-440c-835a-ebd1dbab66a4",
   "metadata": {},
   "source": [
    "## Step 2: 테이블 요약 문서 생성\n",
    "\n",
    "다양한 정보들을 테이블 요약 문서 생성에 활용합니다. \n",
    "\n",
    "기본 Schema Description 문서와 Sample Query 등을 모두 활용해서 테이블 요약을 생성합니다. \n",
    "\n",
    "아래는 이 정보를 반영하기 위한 LLM 프롬프트 템플릿입니다."
   ]
  },
  {
   "cell_type": "code",
   "execution_count": 5,
   "id": "abd9b880-aba2-4708-8f83-1287771a3aee",
   "metadata": {
    "tags": []
   },
   "outputs": [],
   "source": [
    "from langchain_aws import ChatBedrock\n",
    "\n",
    "SYS_PROMPT = \"\"\"\n",
    "You are a data analyst that can help summarize SQL tables.\n",
    "Summarize the provided table by the given context.\n",
    "\n",
    "<instruction>\n",
    "- You shall write the summary based only on the provided information, and make it as detailed as possible.\n",
    "- Note that above sampled queries are only small sample of queries and thus not all possible use of tables are represented, and only some columns in the table are used.\n",
    "- Do not use any adjective to describe the table. For example, the importance of the table, its comprehensiveness or if it is crucial, or who may be using it. For example, you can say that a table contains certain types of data, but you cannot say that the table contains a 'wealth' of data, or that it is 'comprehensive'.\n",
    "- Do not mention about the sampled query. Only talk objectively about the type of data the table contains and its possible utilities.\n",
    "- Please also include some potential usecases of the table, e.g. what kind of questions can be answered by the table, what kind of anlaysis can be done by the table, etc.\n",
    "- Please provide the output in Korean.\n",
    "</instruction>\n",
    "\"\"\"\n",
    "\n",
    "PROMPT_TEMPLATE = \"\"\"\n",
    "<table schema>\n",
    "{table_schema}\n",
    "</table schema>\n",
    "\n",
    "<sample queries>\n",
    "{sample_queries}\n",
    "</sample queries>\n",
    "\"\"\"\n",
    "\n",
    "model_kwargs =  { \n",
    "    \"temperature\": 0.0,\n",
    "    \"top_k\": 250,\n",
    "    \"top_p\": 1,\n",
    "    \"system\": SYS_PROMPT\n",
    "}\n",
    "\n",
    "chat_model = ChatBedrock(\n",
    "    model_id=\"us.anthropic.claude-3-7-sonnet-20250219-v1:0\",\n",
    "    region_name='us-west-2',\n",
    "    model_kwargs=model_kwargs\n",
    ")"
   ]
  },
  {
   "cell_type": "code",
   "execution_count": 6,
   "id": "bb10ee72-7793-4985-a4ee-aeda73e1d714",
   "metadata": {
    "tags": []
   },
   "outputs": [],
   "source": [
    "def search_table_queries(queries, table_name):  # 테이블이 어떤 쿼리에 사용되었는지 검색하여 추출하는 함수입니다.\n",
    "    table_name_lower = table_name.lower()\n",
    "    matched_queries = []\n",
    "\n",
    "    for line in queries:\n",
    "        try:\n",
    "            query_data = json.loads(line)\n",
    "            if table_name_lower in query_data['query'].lower():\n",
    "                matched_queries.append(query_data)\n",
    "        except json.JSONDecodeError:\n",
    "            print(f\"Invalid JSON line: {line}\")\n",
    "    \n",
    "    return matched_queries"
   ]
  },
  {
   "cell_type": "markdown",
   "id": "8583e3f3-f34a-4854-a580-27644c92f25e",
   "metadata": {},
   "source": [
    "#### 주어진 정보를 바탕으로 `Customer`라는 테이블에 대한 요약 문서를 추출해보겠습니다."
   ]
  },
  {
   "cell_type": "code",
   "execution_count": 13,
   "id": "3546da88",
   "metadata": {},
   "outputs": [
    {
     "data": {
      "text/plain": [
       "['{\"input\": \"모든 아티스트 정보 조회\\\\n\\\\n이 요청은 데이터베이스에 저장된 모든 아티스트의 전체 정보를 확인하기 위한 것입니다. 아티스트 ID와 이름을 포함한 모든 필드를 조회합니다.\\\\n\\\\n비즈니스 목적:\\\\n- 음악 플랫폼이나 갤러리에서 전체 아티스트 목록 확인\\\\n- 아티스트 관리 시스템에서 등록된 모든 아티스트 정보 검토\\\\n- 새로운 아티스트 추가 전 기존 아티스트 확인\\\\n- 아티스트 데이터베이스의 전반적인 상태 점검\\\\n\\\\n사용자는 아티스트 관련 작업을 시작하기 전에 현재 시스템에 등록된 모든 아티스트를 파악하고자 할 때 이러한 요청을 할 것입니다. 특히 관리자나 데이터 분석가가 아티스트 데이터 전체를 검토하거나 내보내기 위해 사용할 수 있습니다.\", \"query\": \"SELECT * FROM Artist\"}\\n',\n",
       " '{\"input\": \"AC/DC 아티스트가 발매한 모든 앨범 정보\\\\n\\\\n이 쿼리는 특정 아티스트(AC/DC)가 발매한 모든 앨범의 상세 정보를 조회하는 것입니다. 음악 스트리밍 서비스나 음반 판매점에서 특정 아티스트의 전체 디스코그래피를 확인하려는 목적으로 사용됩니다. 사용자가 좋아하는 아티스트의 모든 작품을 한눈에 보거나, 컬렉션을 완성하기 위해 아직 구매하지 않은 앨범을 확인하려는 의도가 있습니다. 또한 음악 플랫폼에서 아티스트 페이지를 구성할 때 해당 아티스트의 모든 앨범을 표시하기 위한 백엔드 쿼리로도 활용될 수 있습니다.\", \"query\": \"SELECT * FROM Album WHERE ArtistId = (SELECT ArtistId FROM Artist WHERE Name = \\'AC/DC\\')\"}\\n',\n",
       " '{\"input\": \"록 장르에 속하는 모든 음악 트랙 정보\\\\n\\\\n이 요청은 음악 데이터베이스에서 특정 장르에 속하는 모든 트랙을 찾고자 하는 목적이 있습니다. 사용자는 록 음악만 선별적으로 보고 싶어하며, 해당 장르의 모든 트랙 정보(제목, 아티스트, 앨범 등)를 한번에 확인하려는 의도가 있습니다. 이는 록 음악 컬렉션을 분석하거나, 록 장르 플레이리스트를 만들거나, 록 음악의 특성을 연구하는 등의 목적으로 사용될 수 있습니다. 또한 음악 스트리밍 서비스나 음반 판매점에서 록 장르 카테고리를 구성하기 위한 기초 데이터로 활용될 수 있습니다.\", \"query\": \"SELECT * FROM Track WHERE GenreId = (SELECT GenreId FROM Genre WHERE Name = \\'Rock\\')\"}\\n',\n",
       " '{\"input\": \"모든 음악 트랙의 총 재생 시간(밀리초 단위)\\\\n\\\\n이 쿼리는 음악 라이브러리나 스트리밍 서비스에서 전체 콘텐츠의 총 재생 시간을 파악하기 위한 목적으로 사용됩니다. 이러한 정보는 서버 용량 계획, 스트리밍 대역폭 예측, 또는 전체 카탈로그의 규모를 평가하는 데 활용될 수 있습니다. 또한 사용자에게 \\\\\"우리 서비스의 모든 음악을 연속해서 들으면 얼마나 걸릴까요?\\\\\"와 같은 마케팅 정보를 제공하거나, 백업 시간 예측, 데이터 마이그레이션 계획 등 기술적 목적으로도 사용될 수 있습니다.\", \"query\": \"SELECT SUM(Milliseconds) FROM Track\"}\\n',\n",
       " '{\"input\": \"캐나다에 거주하는 모든 고객의 상세 정보\\\\n\\\\n이 쿼리는 캐나다에 거주하는 고객들의 모든 정보를 조회하기 위한 것입니다. 회사가 캐나다 시장에 집중하거나 캐나다 고객을 위한 특별 프로모션을 계획할 때 유용합니다. 또한 캐나다 지역 마케팅 캠페인을 위한 고객 데이터 분석, 캐나다 고객 서비스 품질 평가, 또는 캐나다 시장 확장 전략을 위한 기초 자료로 활용될 수 있습니다. 캐나다 내 고객 분포나 구매 패턴을 파악하여 지역별 맞춤 서비스를 개발하는 데에도 중요한 정보를 제공합니다.\", \"query\": \"SELECT * FROM Customer WHERE Country = \\'Canada\\'\"}\\n',\n",
       " '{\"input\": \"앨범 ID가 5인 트랙의 총 개수\\\\n\\\\n이 쿼리는 특정 앨범(ID 5)에 포함된 모든 트랙의 수를 계산하는 것입니다. 음악 관리 시스템이나 스트리밍 서비스에서 특정 앨범의 규모를 파악하거나, 앨범 상세 페이지에 표시할 트랙 수 정보를 가져오는 데 사용됩니다. 또한 앨범 간 크기 비교, 앨범 완전성 확인, 또는 특정 앨범의 콘텐츠 분석을 위한 기초 데이터로 활용될 수 있습니다. 음반사나 아티스트가 앨범 구성을 검토하거나 사용자에게 앨범 정보를 제공할 때 필요한 기본 통계 정보입니다.\", \"query\": \"SELECT COUNT(*) FROM Track WHERE AlbumId = 5\"}\\n',\n",
       " '{\"input\": \"총 인보이스 수 조회\\\\n\\\\n이 쿼리는 시스템에 등록된 모든 인보이스(거래 기록)의 총 개수를 파악하기 위한 것입니다. 회사의 전체 거래량을 확인하여 비즈니스 규모를 평가하거나, 회계 감사를 위한 기초 데이터로 활용될 수 있습니다. 또한 시스템 성능 평가나 데이터베이스 크기 예측을 위한 기초 정보로도 사용될 수 있으며, 특정 기간 동안의 거래 증가율을 계산하기 위한 기준점으로 활용될 수 있습니다.\", \"query\": \"SELECT COUNT(*) FROM Invoice\"}\\n',\n",
       " '{\"input\": \"300,000밀리초(5분) 이상 재생 시간을 가진 모든 음악 트랙의 전체 정보\\\\n\\\\n이 쿼리의 목적:\\\\n- 긴 재생 시간을 가진 트랙을 식별하여 특정 재생 목록이나 프로그램에 적합한 음악 찾기\\\\n- 스트리밍 서비스에서 더 긴 콘텐츠를 제공하기 위한 트랙 선별\\\\n- 음악 카탈로그 분석을 통해 장시간 트랙의 분포와 특성 파악\\\\n- 사용자에게 더 긴 음악 경험을 제공하기 위한 추천 시스템 구축\\\\n- 특정 장르나 아티스트의 긴 트랙 패턴 분석을 위한 데이터 수집\", \"query\": \"SELECT * FROM Track WHERE Milliseconds > 300000\"}\\n',\n",
       " '{\"input\": \"매출액 기준 상위 5명의 고객 목록\\\\n\\\\n이 요청은 고객별 총 구매액을 계산하여 가장 많은 금액을 지출한 상위 5명의 고객을 식별하기 위한 것입니다. 회사의 VIP 고객을 파악하거나 충성도 높은 고객을 대상으로 한 마케팅 캠페인을 계획하는 데 사용될 수 있습니다. 또한 매출에 가장 큰 기여를 하는 고객층을 분석하여 비즈니스 전략을 수립하거나, 고객 유지 프로그램을 개발하는 데 중요한 인사이트를 제공합니다. 이러한 데이터는 영업팀이 주요 고객 관계를 관리하거나 경영진이 수익 집중도를 평가하는 데 필수적입니다.\", \"query\": \"SELECT CustomerId, SUM(Total) AS TotalPurchase FROM Invoice GROUP BY CustomerId ORDER BY TotalPurchase DESC LIMIT 5\"}\\n',\n",
       " '{\"input\": \"직원 수 조회\\\\n\\\\n이 쿼리는 회사의 전체 직원 수를 파악하기 위한 것입니다. 인사 관리, 조직 규모 파악, 인력 계획 수립, 예산 책정, 성과 보고서 작성 등에 활용됩니다. 특히 경영진이 회사 전체 인력 현황을 빠르게 파악하거나, 인사팀이 채용 계획을 세울 때, 또는 부서별 인원 배치를 검토할 때 필요한 기본 정보를 제공합니다. 또한 시간에 따른 직원 수 변화를 모니터링하여 회사 성장이나 구조조정 효과를 측정하는 데도 사용될 수 있습니다.\", \"query\": \"SELECT COUNT(*) FROM Employee\"}\\n']"
      ]
     },
     "execution_count": 13,
     "metadata": {},
     "output_type": "execute_result"
    }
   ],
   "source": [
    "queries"
   ]
  },
  {
   "cell_type": "code",
   "execution_count": 12,
   "id": "3719069d-dc8c-4de1-b289-746c83fb619c",
   "metadata": {
    "tags": []
   },
   "outputs": [
    {
     "name": "stdout",
     "output_type": "stream",
     "text": [
      "# 고객 테이블 요약\n",
      "\n",
      "이 테이블은 고객의 상세 정보와 담당 지원 담당자에 대한 연결 정보를 포함하고 있습니다. \n",
      "\n",
      "## 포함 데이터\n",
      "- 고객 식별 정보: 고유 식별자(CustomerId)\n",
      "- 개인 정보: 이름(FirstName), 성(LastName), 이메일(Email), 전화번호(Phone), 팩스번호(Fax)\n",
      "- 소속 정보: 회사명(Company)\n",
      "- 주소 정보: 주소(Address), 도시(City), 주/도(State), 국가(Country), 우편번호(PostalCode)\n",
      "- 관계 정보: 담당 지원 담당자 ID(SupportRepId)\n",
      "\n",
      "## 활용 가능성\n",
      "1. **고객 분석**:\n",
      "   - 지역별 고객 분포 분석\n",
      "   - 국가별 고객 수 파악\n",
      "   - 특정 지역 고객 타겟팅을 위한 데이터 추출\n",
      "\n",
      "2. **고객 관계 관리**:\n",
      "   - 고객별 담당 지원 담당자 확인\n",
      "   - 고객 연락처 정보 관리\n",
      "   - 고객 프로필 구축 및 관리\n",
      "\n",
      "3. **마케팅 활동**:\n",
      "   - 지역 기반 마케팅 캠페인 대상 선정\n",
      "   - 이메일 마케팅을 위한 연락처 추출\n",
      "   - 특정 회사 소속 고객 대상 B2B 마케팅\n",
      "\n",
      "4. **비즈니스 인텔리전스**:\n",
      "   - 고객 데이터와 매출 데이터 연계 분석\n",
      "   - 고객 세그먼트별 구매 패턴 분석\n",
      "   - 고객 충성도와 구매 행동 간의 상관관계 분석\n",
      "\n",
      "5. **고객 서비스 최적화**:\n",
      "   - 담당자별 고객 할당 현황 파악\n",
      "   - 지역별 고객 서비스 요구사항 분석\n",
      "   - 고객 연락 채널 선호도 파악\n",
      "\n",
      "이 테이블은 고객 관리 시스템의 핵심 구성 요소로, 고객 정보를 체계적으로 관리하고 다양한 비즈니스 의사결정에 필요한 기초 데이터를 제공합니다.\n"
     ]
    }
   ],
   "source": [
    "from langchain_core.prompts.chat import ChatPromptTemplate\n",
    "from langchain_core.output_parsers import StrOutputParser\n",
    "\n",
    "table_name = 'Customer'\n",
    "\n",
    "matched_queries = search_table_queries(queries, table_name)\n",
    "prompt = ChatPromptTemplate.from_template(PROMPT_TEMPLATE)\n",
    "chain = prompt | chat_model | StrOutputParser()\n",
    "\n",
    "table_summary = chain.invoke({\"table_schema\": schema[0]['Customer'], \"sample_queries\": matched_queries})\n",
    "print(table_summary)"
   ]
  },
  {
   "cell_type": "markdown",
   "id": "7f811120-5c0d-4478-81f1-f66469dbb093",
   "metadata": {},
   "source": [
    "#### 아래는 이 작업을 Schema Description 내 모든 테이블을 대상으로 수행하는 코드입니다 (약 2-3분 소요됩니다)"
   ]
  },
  {
   "cell_type": "code",
   "execution_count": 15,
   "id": "d72ab1fd-3a57-4aca-9070-e7f0530e5608",
   "metadata": {
    "tags": []
   },
   "outputs": [
    {
     "name": "stderr",
     "output_type": "stream",
     "text": [
      "INFO:retry-bedrock-invocation:trying summarize_table() [1/5]\n",
      "INFO:retry-bedrock-invocation:in retry(), summarize_table() returned '{'Album': {'table_desc': 'Stores album data with unique ID, title, and links to artist via artist ID.', 'cols': [{'col': 'AlbumId', 'col_desc': 'Primary key, unique identifier for the album.'}, {'col': 'Title', 'col_desc': 'Title of the album.'}, {'col': 'ArtistId', 'col_desc': 'Foreign key that references the artist of the album.'}], 'table_summary': '# Album 테이블 요약\\n\\nAlbum 테이블은 음악 앨범 정보를 저장하는 데이터베이스 테이블입니다. 이 테이블은 다음과 같은 주요 컬럼으로 구성되어 있습니다:\\n\\n1. **AlbumId**: 앨범의 고유 식별자로 기본 키(Primary Key) 역할을 합니다.\\n2. **Title**: 앨범의 제목을 저장합니다.\\n3. **ArtistId**: 앨범을 발매한 아티스트를 참조하는 외래 키(Foreign Key)입니다.\\n\\n## 활용 사례\\n\\n이 테이블은 다음과 같은 다양한 용도로 활용될 수 있습니다:\\n\\n1. **아티스트별 디스코그래피 조회**: 특정 아티스트가 발매한 모든 앨범 목록을 조회할 수 있습니다.\\n2. **앨범 카탈로그 관리**: 음악 라이브러리나 스트리밍 서비스에서 앨범 정보를 체계적으로 관리할 수 있습니다.\\n3. **앨범-아티스트 연관 분석**: 아티스트와 그들의 앨범 간의 관계를 분석할 수 있습니다.\\n4. **앨범 검색 기능**: 제목이나 아티스트 ID를 기준으로 앨범을 검색할 수 있습니다.\\n5. **음악 콘텐츠 분석**: 다른 테이블(예: Track)과 연결하여 앨범에 포함된 트랙 수와 같은 정보를 분석할 수 있습니다.\\n6. **음악 플랫폼 UI 구성**: 음악 애플리케이션에서 앨범 정보를 표시하는 데 필요한 데이터를 제공합니다.\\n7. **앨범 통계 생성**: 아티스트별 앨범 수, 연도별 발매 앨범 등의 통계 정보를 생성할 수 있습니다.\\n\\n이 테이블은 음악 관련 데이터베이스의 핵심 구성 요소로, 아티스트 정보와 트랙 정보를 연결하는 중간 역할을 합니다.'}}'\n",
      "INFO:retry-bedrock-invocation:trying summarize_table() [1/5]\n",
      "INFO:retry-bedrock-invocation:in retry(), summarize_table() returned '{'Artist': {'table_desc': 'Holds artist information with an ID and name.', 'cols': [{'col': 'ArtistId', 'col_desc': 'Primary key, unique identifier for the artist.'}, {'col': 'Name', 'col_desc': 'Name of the artist.'}], 'table_summary': '# Artist 테이블 요약\\n\\nArtist 테이블은 아티스트 정보를 저장하는 테이블로, 다음과 같은 두 개의 컬럼으로 구성되어 있습니다:\\n\\n1. **ArtistId**: 아티스트의 고유 식별자로 기본 키(Primary Key) 역할을 합니다.\\n2. **Name**: 아티스트의 이름을 저장합니다.\\n\\n이 테이블은 음악 관련 데이터베이스에서 아티스트 정보의 기본 저장소 역할을 하며, 다른 테이블(예: Album)과 관계를 맺어 음악 카탈로그를 구성하는 데 사용됩니다.\\n\\n## 잠재적 활용 사례:\\n\\n1. **아티스트 목록 관리**: 시스템에 등록된 모든 아티스트 정보를 조회하고 관리\\n2. **음악 카탈로그 구성**: 특정 아티스트와 관련된 앨범, 트랙 등을 연결하여 음악 카탈로그 구성\\n3. **아티스트 검색 기능**: 사용자가 아티스트 이름으로 검색할 때 관련 정보 제공\\n4. **아티스트별 콘텐츠 분류**: 음악 스트리밍 서비스나 음반 판매점에서 아티스트별로 콘텐츠 분류\\n5. **아티스트 프로필 페이지 구성**: 음악 플랫폼에서 아티스트 프로필 페이지를 구성할 때 기본 정보 제공\\n6. **데이터 분석**: 아티스트별 인기도, 앨범 수, 트랙 수 등의 통계 분석\\n\\n이 테이블은 음악 관련 애플리케이션에서 아티스트 정보를 저장하고 관리하는 기본적인 데이터 구조를 제공합니다.'}}'\n",
      "INFO:retry-bedrock-invocation:trying summarize_table() [1/5]\n",
      "INFO:retry-bedrock-invocation:in retry(), summarize_table() returned '{'Customer': {'table_desc': 'Contains customer details and links to their support representative.', 'cols': [{'col': 'CustomerId', 'col_desc': 'Primary key, unique customer identifier.'}, {'col': 'FirstName', 'col_desc': 'First name of the customer.'}, {'col': 'LastName', 'col_desc': 'Last name of the customer.'}, {'col': 'Company', 'col_desc': 'Company of the customer.'}, {'col': 'Address', 'col_desc': 'Address of the customer.'}, {'col': 'City', 'col_desc': 'City of the customer.'}, {'col': 'State', 'col_desc': 'State of the customer.'}, {'col': 'Country', 'col_desc': 'Country of the customer.'}, {'col': 'PostalCode', 'col_desc': 'Postal code of the customer.'}, {'col': 'Phone', 'col_desc': 'Phone number of the customer.'}, {'col': 'Fax', 'col_desc': 'Fax number of the customer.'}, {'col': 'Email', 'col_desc': 'Email address of the customer.'}, {'col': 'SupportRepId', 'col_desc': 'Foreign key that references the employee who supports this customer.'}], 'table_summary': '# 고객 테이블 요약\\n\\n이 테이블은 고객의 상세 정보와 담당 지원 담당자에 대한 연결 정보를 포함하고 있습니다. \\n\\n## 포함 데이터\\n- 고객 식별 정보: 고유 식별자(CustomerId)\\n- 개인 정보: 이름(FirstName), 성(LastName), 이메일(Email), 전화번호(Phone), 팩스번호(Fax)\\n- 소속 정보: 회사명(Company)\\n- 주소 정보: 주소(Address), 도시(City), 주/도(State), 국가(Country), 우편번호(PostalCode)\\n- 지원 관계: 고객 지원 담당자 ID(SupportRepId)\\n\\n## 활용 가능성\\n1. **고객 관리 및 분석**:\\n   - 지역별 고객 분포 분석\\n   - 국가별 고객 현황 파악\\n   - 고객 연락처 데이터베이스 구축\\n\\n2. **마케팅 및 영업 활동**:\\n   - 지역 타겟팅 마케팅 캠페인 설계\\n   - 특정 국가/지역 고객 대상 프로모션 기획\\n   - 고객 세그먼트 분석\\n\\n3. **고객 지원 서비스**:\\n   - 고객별 담당 지원 인력 배정 및 관리\\n   - 고객 지원 효율성 분석\\n   - 지원 담당자별 고객 분포 파악\\n\\n4. **비즈니스 인텔리전스**:\\n   - 지역별 매출 분석(다른 테이블과 결합 시)\\n   - 고객 프로필링\\n   - 고객 행동 패턴 분석\\n\\n5. **운영 최적화**:\\n   - 고객 커뮤니케이션 채널 관리\\n   - 고객 정보 업데이트 및 유지 관리\\n   - 고객 서비스 품질 모니터링\\n\\n이 테이블은 고객 관계 관리(CRM) 시스템의 핵심 구성 요소로서, 고객 데이터를 체계적으로 관리하고 분석하는 데 필수적인 정보를 제공합니다.'}}'\n",
      "INFO:retry-bedrock-invocation:trying summarize_table() [1/5]\n",
      "INFO:retry-bedrock-invocation:in retry(), summarize_table() returned '{'Employee': {'table_desc': 'Stores employee details, including their supervisory chain.', 'cols': [{'col': 'EmployeeId', 'col_desc': 'Primary key, unique identifier for the employee.'}, {'col': 'LastName', 'col_desc': 'Last name of the employee.'}, {'col': 'FirstName', 'col_desc': 'First name of the employee.'}, {'col': 'Title', 'col_desc': 'Job title of the employee.'}, {'col': 'ReportsTo', 'col_desc': 'Foreign key that references the supervisor of the employee.'}, {'col': 'BirthDate', 'col_desc': 'Birth date of the employee.'}, {'col': 'HireDate', 'col_desc': 'Hire date of the employee.'}, {'col': 'Address', 'col_desc': 'Address of the employee.'}, {'col': 'City', 'col_desc': 'City of the employee.'}, {'col': 'State', 'col_desc': 'State of the employee.'}, {'col': 'Country', 'col_desc': 'Country of the employee.'}, {'col': 'PostalCode', 'col_desc': 'Postal code of the employee.'}, {'col': 'Phone', 'col_desc': 'Phone number of the employee.'}, {'col': 'Fax', 'col_desc': 'Fax number of the employee.'}, {'col': 'Email', 'col_desc': 'Email address of the employee.'}], 'table_summary': '# Employee 테이블 요약\\n\\nEmployee 테이블은 직원 정보를 저장하는 데이터베이스 테이블로, 직원의 개인 정보와 조직 내 위치를 포함하고 있습니다.\\n\\n## 포함 데이터\\n- **식별 정보**: EmployeeId(고유 식별자)\\n- **개인 정보**: 성(LastName), 이름(FirstName), 생년월일(BirthDate)\\n- **직무 정보**: 직책(Title), 상사 참조(ReportsTo)\\n- **고용 정보**: 입사일(HireDate)\\n- **연락처 정보**: 주소(Address), 도시(City), 주/도(State), 국가(Country), 우편번호(PostalCode), 전화번호(Phone), 팩스번호(Fax), 이메일(Email)\\n\\n## 주요 특징\\n- ReportsTo 필드를 통해 조직 내 보고 체계와 계층 구조를 파악할 수 있습니다.\\n- 직원의 위치 정보(주소, 도시, 국가 등)를 통해 지리적 분포를 분석할 수 있습니다.\\n- 입사일 정보를 통해 근속 기간을 계산할 수 있습니다.\\n\\n## 활용 사례\\n1. **인력 관리**: 전체 직원 수 파악, 부서별/지역별 인원 분포 분석\\n2. **조직 구조 분석**: 보고 체계 및 관리 스팬 분석\\n3. **인구통계학적 분석**: 직원 연령 분포, 지역별 분포 등 분석\\n4. **근속 분석**: 직원 유지율, 평균 근속 기간 계산\\n5. **연락처 관리**: 직원 연락처 정보 관리 및 업데이트\\n6. **인사 계획**: 직책별 인원 현황 파악, 승진 계획 수립\\n7. **지리적 분석**: 국가/지역별 직원 분포 분석\\n\\n이 테이블은 인사 관리 시스템의 핵심 구성 요소로, 직원 정보 관리와 조직 구조 파악에 필수적인 데이터를 제공합니다.'}}'\n",
      "INFO:retry-bedrock-invocation:trying summarize_table() [1/5]\n",
      "INFO:retry-bedrock-invocation:in retry(), summarize_table() returned '{'Genre': {'table_desc': 'Catalogs music genres with a unique identifier and name.', 'cols': [{'col': 'GenreId', 'col_desc': 'Primary key, unique identifier for the genre.'}, {'col': 'Name', 'col_desc': 'Name of the genre.'}], 'table_summary': '# Genre 테이블 요약\\n\\nGenre 테이블은 음악 장르를 카탈로그화하는 테이블로, 각 장르에 대한 고유 식별자와 이름을 저장합니다.\\n\\n## 구조\\n- **GenreId**: 장르의 고유 식별자로 기본 키(Primary Key) 역할을 합니다.\\n- **Name**: 장르의 이름을 저장합니다 (예: Rock, Jazz, Classical 등).\\n\\n## 활용 사례\\n1. **특정 장르의 음악 트랙 검색**: 사용자가 원하는 장르(예: 록, 재즈, 클래식 등)에 속하는 모든 음악 트랙을 찾을 수 있습니다.\\n2. **장르별 음악 분류**: 음악 라이브러리를 장르별로 분류하고 구성할 수 있습니다.\\n3. **장르 기반 추천 시스템**: 사용자의 선호 장르를 기반으로 음악을 추천하는 시스템을 구축할 수 있습니다.\\n4. **장르별 통계 분석**: 각 장르에 속한 트랙 수, 인기도, 판매량 등을 분석할 수 있습니다.\\n5. **장르별 플레이리스트 생성**: 특정 장르의 음악만으로 구성된 플레이리스트를 자동으로 생성할 수 있습니다.\\n6. **음악 카탈로그 관리**: 음악 스트리밍 서비스나 음반 판매점에서 장르별 카테고리를 구성하는 데 활용할 수 있습니다.\\n\\n이 테이블은 다른 음악 관련 테이블(예: Track, Album, Artist 등)과 연결되어 음악 데이터베이스의 장르 분류 체계를 제공합니다.'}}'\n",
      "INFO:retry-bedrock-invocation:trying summarize_table() [1/5]\n",
      "INFO:retry-bedrock-invocation:in retry(), summarize_table() returned '{'Invoice': {'table_desc': 'Records details of transactions, linked to customers.', 'cols': [{'col': 'InvoiceId', 'col_desc': 'Primary key, unique identifier for the invoice.'}, {'col': 'CustomerId', 'col_desc': 'Foreign key that references the customer associated with this invoice.'}, {'col': 'InvoiceDate', 'col_desc': 'Date when the invoice was issued.'}, {'col': 'BillingAddress', 'col_desc': 'Billing address on the invoice.'}, {'col': 'BillingCity', 'col_desc': 'Billing city on the invoice.'}, {'col': 'BillingState', 'col_desc': 'Billing state on the invoice.'}, {'col': 'BillingCountry', 'col_desc': 'Billing country on the invoice.'}, {'col': 'BillingPostalCode', 'col_desc': 'Billing postal code on the invoice.'}, {'col': 'Total', 'col_desc': 'Total amount of the invoice.'}], 'table_summary': '# Invoice 테이블 요약\\n\\nInvoice 테이블은 거래 기록에 대한 상세 정보를 저장하며 고객과 연결되어 있습니다. 이 테이블은 다음과 같은 주요 정보를 포함합니다:\\n\\n- 인보이스 식별자(InvoiceId): 각 인보이스의 고유 식별자로 기본 키 역할을 합니다.\\n- 고객 식별자(CustomerId): 인보이스와 연관된 고객을 참조하는 외래 키입니다.\\n- 인보이스 날짜(InvoiceDate): 인보이스가 발행된 날짜입니다.\\n- 청구 정보: 청구 주소(BillingAddress), 도시(BillingCity), 주(BillingState), 국가(BillingCountry), 우편번호(BillingPostalCode)를 포함합니다.\\n- 총액(Total): 인보이스의 총 금액입니다.\\n\\n## 활용 사례:\\n\\n1. **매출 분석**: 기간별, 지역별, 고객별 매출 추이를 분석하여 비즈니스 성과를 평가할 수 있습니다.\\n\\n2. **고객 가치 평가**: 고객별 총 구매액을 계산하여 가장 가치 있는 고객을 식별하고 VIP 고객 관리 전략을 수립할 수 있습니다.\\n\\n3. **지역별 판매 분석**: 청구 주소 정보를 활용하여 지역별 매출 분포를 파악하고 지역 타겟팅 전략을 개발할 수 있습니다.\\n\\n4. **시간별 매출 추세**: 인보이스 날짜를 기준으로 일별, 월별, 분기별, 연도별 매출 추세를 분석할 수 있습니다.\\n\\n5. **고객 구매 패턴 분석**: 고객별 구매 빈도와 금액을 분석하여 구매 패턴을 파악할 수 있습니다.\\n\\n6. **재무 보고 및 회계**: 총 매출액 계산, 세금 보고, 재무제표 작성 등 회계 및 재무 관리에 활용할 수 있습니다.\\n\\n7. **고객 세그먼테이션**: 구매 금액과 빈도를 기준으로 고객을 세그먼트화하여 타겟 마케팅 전략을 수립할 수 있습니다.\\n\\n8. **국가별/지역별 시장 분석**: 청구 국가 및 지역 정보를 활용하여 국제 시장 분석 및 확장 전략을 수립할 수 있습니다.'}}'\n",
      "INFO:retry-bedrock-invocation:trying summarize_table() [1/5]\n",
      "INFO:retry-bedrock-invocation:in retry(), summarize_table() returned '{'InvoiceLine': {'table_desc': 'Details each line item on an invoice, linked to tracks and invoices.', 'cols': [{'col': 'InvoiceLineId', 'col_desc': 'Primary key, unique identifier for the invoice line.'}, {'col': 'InvoiceId', 'col_desc': 'Foreign key that references the associated invoice.'}, {'col': 'TrackId', 'col_desc': 'Foreign key that references the track sold in this invoice line.'}, {'col': 'UnitPrice', 'col_desc': 'Price per unit of the track.'}, {'col': 'Quantity', 'col_desc': 'Quantity of the track sold in this invoice line.'}], 'table_summary': '# invoice_items 테이블 요약\\n\\n이 테이블은 청구서(invoice)의 각 라인 항목에 대한 상세 정보를 저장하고 있습니다. 각 라인은 판매된 트랙과 해당 청구서에 연결되어 있습니다.\\n\\n## 주요 컬럼 정보:\\n- **InvoiceLineId**: 청구서 라인의 고유 식별자로 기본 키 역할을 합니다.\\n- **InvoiceId**: 연관된 청구서를 참조하는 외래 키입니다.\\n- **TrackId**: 이 청구서 라인에서 판매된 트랙을 참조하는 외래 키입니다.\\n- **UnitPrice**: 트랙의 단위당 가격입니다.\\n- **Quantity**: 이 청구서 라인에서 판매된 트랙의 수량입니다.\\n\\n## 잠재적 활용 사례:\\n1. **매출 분석**: 특정 기간 동안 가장 많이 판매된 트랙이나 가장 높은 수익을 창출한 트랙을 식별할 수 있습니다.\\n2. **가격 분석**: 트랙별 단가 변동을 추적하고 분석할 수 있습니다.\\n3. **고객 구매 패턴**: 특정 고객이 구매한 트랙의 유형과 수량을 분석할 수 있습니다.\\n4. **인기 트랙 식별**: 판매량을 기준으로 인기 있는 트랙을 파악할 수 있습니다.\\n5. **청구서 상세 조회**: 특정 청구서에 포함된 모든 항목을 조회할 수 있습니다.\\n6. **재고 관리**: 디지털 콘텐츠의 판매 추세를 모니터링하는 데 활용할 수 있습니다.\\n\\n이 테이블은 음악 또는 디지털 콘텐츠 판매 시스템에서 트랙 판매의 세부 정보를 추적하고 분석하는 데 중요한 역할을 합니다.'}}'\n",
      "INFO:retry-bedrock-invocation:trying summarize_table() [1/5]\n",
      "INFO:retry-bedrock-invocation:in retry(), summarize_table() returned '{'MediaType': {'table_desc': 'Defines types of media for tracks.', 'cols': [{'col': 'MediaTypeId', 'col_desc': 'Primary key, unique identifier for the media type.'}, {'col': 'Name', 'col_desc': 'Name of the media type.'}], 'table_summary': '# MediaType 테이블 요약\\n\\n이 테이블은 음악 트랙의 미디어 유형을 정의하는 데이터를 저장합니다.\\n\\n## 구조\\n- **MediaTypeId**: 미디어 유형의 고유 식별자로 기본 키로 사용됩니다.\\n- **Name**: 미디어 유형의 이름을 저장합니다.\\n\\n## 데이터 특성\\n이 테이블은 음악이나 오디오 콘텐츠가 어떤 형식으로 제공되는지에 대한 정보를 담고 있습니다. 예를 들어 MP3, AAC, WAV, FLAC 등과 같은 디지털 오디오 형식이나 CD, DVD와 같은 물리적 미디어 형식이 포함될 수 있습니다.\\n\\n## 활용 사례\\n- 음악 라이브러리에서 미디어 유형별 트랙 분류 및 필터링\\n- 특정 미디어 형식의 인기도나 사용 빈도 분석\\n- 미디어 형식별 판매 통계 분석\\n- 스트리밍 서비스와 다운로드 가능한 형식 간의 사용 패턴 비교\\n- 디지털 음원 관리 시스템에서 지원되는 형식 관리\\n- 미디어 형식별 호환성 정보 제공\\n\\n이 테이블은 음악 또는 미디어 관리 시스템에서 콘텐츠의 기술적 형식을 추적하고 관리하는 데 필수적인 정보를 제공합니다.'}}'\n",
      "INFO:retry-bedrock-invocation:trying summarize_table() [1/5]\n",
      "INFO:retry-bedrock-invocation:in retry(), summarize_table() returned '{'Playlist': {'table_desc': 'Organizes tracks into playlists.', 'cols': [{'col': 'PlaylistId', 'col_desc': 'Primary key, unique identifier for the playlist.'}, {'col': 'Name', 'col_desc': 'Name of the playlist.'}], 'table_summary': '# Playlist 테이블 요약\\n\\n이 테이블은 음악 트랙을 플레이리스트로 구성하는 데이터를 저장합니다.\\n\\n## 구조\\n- **PlaylistId**: 플레이리스트의 고유 식별자로 기본 키로 사용됩니다.\\n- **Name**: 플레이리스트의 이름을 저장합니다.\\n\\n## 활용 사례\\n1. **플레이리스트 관리**: 사용자가 생성한 다양한 플레이리스트를 추적하고 관리할 수 있습니다.\\n2. **음악 카테고리화**: 트랙을 테마, 장르, 분위기 등에 따라 그룹화하는 데 사용할 수 있습니다.\\n3. **사용자 경험 분석**: 어떤 유형의 플레이리스트가 가장 많이 생성되는지 분석할 수 있습니다.\\n4. **추천 시스템 개발**: 사용자의 플레이리스트 패턴을 기반으로 음악 추천 시스템을 구축할 수 있습니다.\\n5. **콘텐츠 큐레이션**: 특정 이벤트나 상황에 맞는 음악 컬렉션을 구성하는 데 활용할 수 있습니다.\\n6. **사용자 행동 분석**: 플레이리스트 생성 및 사용 패턴을 통해 사용자 행동을 이해할 수 있습니다.\\n\\n이 테이블은 음악 스트리밍 서비스나 미디어 플레이어 애플리케이션에서 사용자가 생성한 플레이리스트를 관리하는 데 필수적인 구성 요소입니다.'}}'\n",
      "INFO:retry-bedrock-invocation:trying summarize_table() [1/5]\n",
      "INFO:retry-bedrock-invocation:in retry(), summarize_table() returned '{'PlaylistTrack': {'table_desc': 'Links tracks to playlists.', 'cols': [{'col': 'PlaylistId', 'col_desc': 'Foreign key that identifies the playlist.'}, {'col': 'TrackId', 'col_desc': 'Foreign key that identifies the track on the playlist.'}], 'table_summary': '# playlist_track 테이블 요약\\n\\n이 테이블은 플레이리스트와 트랙 간의 연결 정보를 저장하는 중간 테이블입니다.\\n\\n## 구조\\n- **PlaylistId**: 플레이리스트를 식별하는 외래 키\\n- **TrackId**: 플레이리스트에 포함된 트랙을 식별하는 외래 키\\n\\n## 데이터 특성\\n이 테이블은 다대다(many-to-many) 관계를 구현하여 각 플레이리스트에 여러 트랙이 포함될 수 있고, 각 트랙이 여러 플레이리스트에 속할 수 있도록 합니다.\\n\\n## 활용 사례\\n1. 특정 플레이리스트에 포함된 모든 트랙 조회\\n2. 특정 트랙이 포함된 모든 플레이리스트 확인\\n3. 플레이리스트별 트랙 수 분석\\n4. 가장 많은 플레이리스트에 포함된 인기 트랙 식별\\n5. 플레이리스트 구성 패턴 분석\\n6. 사용자 맞춤형 플레이리스트 추천 시스템 구축을 위한 데이터 제공\\n7. 플레이리스트 간 유사도 계산'}}'\n",
      "INFO:retry-bedrock-invocation:trying summarize_table() [1/5]\n",
      "INFO:retry-bedrock-invocation:in retry(), summarize_table() returned '{'Track': {'table_desc': 'Stores detailed information about music tracks, linked to albums, genres, and media types.', 'cols': [{'col': 'TrackId', 'col_desc': 'Primary key, unique identifier for the track.'}, {'col': 'Name', 'col_desc': 'Name of the track.'}, {'col': 'AlbumId', 'col_desc': 'Foreign key that references the album containing this track.'}, {'col': 'MediaTypeId', 'col_desc': 'Foreign key that references the type of media for this track.'}, {'col': 'GenreId', 'col_desc': 'Optional foreign key that references the genre of this track.'}, {'col': 'Composer', 'col_desc': 'Composer of the track.'}, {'col': 'Milliseconds', 'col_desc': 'Duration of the track in milliseconds.'}, {'col': 'Bytes', 'col_desc': 'Size of the track file in bytes.'}, {'col': 'UnitPrice', 'col_desc': 'Price per unit of this track.'}], 'table_summary': '# 음악 트랙 정보 테이블 (Track)\\n\\n이 테이블은 음악 트랙에 관한 상세 정보를 저장하고 있습니다. 각 트랙은 고유 식별자(TrackId)로 구분되며, 트랙명(Name), 앨범 연결 정보(AlbumId), 미디어 유형(MediaTypeId), 장르 정보(GenreId), 작곡가(Composer), 재생 시간(Milliseconds), 파일 크기(Bytes), 단가(UnitPrice) 등의 정보를 포함하고 있습니다.\\n\\n## 테이블 구성 요소\\n- 트랙 기본 정보: 트랙 ID, 이름, 작곡가\\n- 분류 정보: 앨범 ID, 미디어 유형 ID, 장르 ID를 통한 외래 키 연결\\n- 기술적 정보: 재생 시간(밀리초), 파일 크기(바이트)\\n- 상업적 정보: 단가\\n\\n## 활용 사례\\n1. **음악 카탈로그 관리**: 전체 음악 라이브러리의 구성 및 관리\\n2. **장르별 분석**: 특정 장르(예: 록)에 속하는 모든 트랙 조회 및 분석\\n3. **재생 시간 통계**: 전체 또는 특정 조건의 트랙 재생 시간 계산\\n4. **앨범 구성 분석**: 특정 앨범에 포함된 트랙 수 및 특성 파악\\n5. **가격 정책 수립**: 트랙 길이나 장르에 따른 가격 책정 분석\\n6. **스토리지 관리**: 트랙 파일 크기를 기반으로 한 저장 공간 계획\\n7. **재생 목록 생성**: 특정 길이(예: 5분 이상) 또는 특성을 가진 트랙 필터링\\n8. **작곡가별 작품 분석**: 특정 작곡가의 모든 트랙 조회 및 분석\\n9. **미디어 유형별 콘텐츠 관리**: 다양한 미디어 형식에 따른 트랙 분류 및 관리\\n10. **음악 판매 분석**: 트랙별 가격 정보를 활용한 매출 분석\\n\\n이 테이블은 음악 스트리밍 서비스, 음반 판매점, 음악 라이브러리 관리 시스템 등에서 핵심적인 데이터 구조로 활용될 수 있습니다.'}}'\n"
     ]
    }
   ],
   "source": [
    "import os\n",
    "\n",
    "OUTPUT_FILE_PATH1 = \"./chinook_detailed_schema_temp.json\"\n",
    "\n",
    "with open(OUTPUT_FILE_PATH1, 'w', encoding='utf-8') as output_file:\n",
    "    output_file.write('[\\n')\n",
    "\n",
    "@retry(total_try_cnt=5, sleep_in_sec=10, retryable_exceptions=(ClientError,))\n",
    "def summarize_table(table_name, table_data, queries, chain):\n",
    "    table_summary = chain.invoke({\"table_schema\": table_data, \"sample_queries\": queries})\n",
    "    table_data['table_summary'] = table_summary \n",
    "    summary_output = {table_name: table_data}\n",
    "    return summary_output\n",
    "    \n",
    "for table_info in schema:\n",
    "    for table_name, table_data in table_info.items():\n",
    "        globals()[table_name] = table_data\n",
    "        matched_queries = search_table_queries(queries, table_name)\n",
    "        prompt = ChatPromptTemplate.from_template(PROMPT_TEMPLATE)\n",
    "        chain = prompt | chat_model | StrOutputParser()\n",
    "\n",
    "        table_summary = summarize_table(table_name, table_data, matched_queries, chain)\n",
    "        \n",
    "        with open(OUTPUT_FILE_PATH1, 'a', encoding='utf-8') as output_file:\n",
    "            output_file.write(json.dumps(table_summary, ensure_ascii=False, indent=4) + ',\\n')\n",
    "\n",
    "with open(OUTPUT_FILE_PATH1, 'rb+') as output_file:\n",
    "    output_file.seek(-2, os.SEEK_END) \n",
    "    output_file.truncate() \n",
    "    output_file.write(b'\\n]')"
   ]
  },
  {
   "cell_type": "markdown",
   "id": "556af33c-7a19-4df4-b3fa-d7fa38836eb7",
   "metadata": {},
   "source": [
    "이제 `text-to-sql-bedrock/lab3_text2sql_schema_preparation/chinook_detailed_schema_temp.json` 파일을 열어보면, table_summary가 스키마 문서에 추가되어 있습니다.\n",
    "\n",
    "위와 같이, 1) 테이블에 어떤 컬럼들이 있는지, 2) 어떤 용도로 활용되는지에 대한 자세한 정보를 LLM에 전달하는 것은 올바른 테이블 선택에 도움이 됩니다.\n",
    "\n",
    "하지만, 테이블 요약이 너무 길어졌을 때 모든 테이블의 요약 정보를 LLM에 전달할 수 없으므로, 테이블 요약 정보 역시 벡터 유사도 검색으로 탐색하는 것이 좋습니다."
   ]
  },
  {
   "cell_type": "markdown",
   "id": "5e56a62d-12da-4548-ac46-49c322dbbd99",
   "metadata": {},
   "source": [
    "## Step 3: 테이블 요약 문서를 벡터 임베딩으로 변환하여 OpenSearch에 저장\n",
    "\n",
    "이 Step은 `1.sample_queries.ipynb`에서 수행한 샘플 쿼리 저장과정과 유사하게 진행됩니다."
   ]
  },
  {
   "cell_type": "code",
   "execution_count": 16,
   "id": "95fbb15a-f521-482e-b5df-6a8cd8d4ed4b",
   "metadata": {
    "tags": []
   },
   "outputs": [
    {
     "name": "stdout",
     "output_type": "stream",
     "text": [
      "Index does not exist, Create one.\n"
     ]
    }
   ],
   "source": [
    "import yaml\n",
    "from opensearchpy import OpenSearch, RequestsHttpConnection\n",
    "INDEX_NAME = \"schema_description\"\n",
    "\n",
    "def load_opensearch_config():\n",
    "    with open(\"../libs/opensearch.yml\", 'r', encoding='utf-8') as file:\n",
    "        return yaml.safe_load(file)\n",
    "\n",
    "def init_opensearch(config):\n",
    "    mapping = {\"settings\": config['settings'], \"mappings\": config['mappings-detailed-schema']}\n",
    "    endpoint = opensearch_domain_endpoint\n",
    "    http_auth = (opensearch_user_id, opensearch_user_password)\n",
    "\n",
    "    os_client = OpenSearch(\n",
    "            hosts=[{'host': endpoint.replace(\"https://\", \"\"),'port': 443}],\n",
    "            http_auth=http_auth, \n",
    "            use_ssl=True,\n",
    "            verify_certs=True,\n",
    "            timeout=300,\n",
    "            connection_class=RequestsHttpConnection\n",
    "    )\n",
    "\n",
    "    create_os_index(os_client, mapping)\n",
    "    return os_client\n",
    "\n",
    "def create_os_index(os_client, mapping):\n",
    "    exists = os_client.indices.exists(INDEX_NAME)\n",
    "\n",
    "    if exists:\n",
    "        os_client.indices.delete(index=INDEX_NAME)\n",
    "        print(\"Existing index has been deleted. Create new one.\")\n",
    "    else:\n",
    "        print(\"Index does not exist, Create one.\")\n",
    "\n",
    "    os_client.indices.create(INDEX_NAME, body=mapping)\n",
    "\n",
    "config = load_opensearch_config()\n",
    "os_client = init_opensearch(config)"
   ]
  },
  {
   "cell_type": "code",
   "execution_count": 17,
   "id": "827bcc97-974a-4fa2-b643-ca6f7519e968",
   "metadata": {
    "tags": []
   },
   "outputs": [
    {
     "name": "stderr",
     "output_type": "stream",
     "text": [
      "/tmp/ipykernel_10391/912569524.py:3: LangChainDeprecationWarning: The class `BedrockEmbeddings` was deprecated in LangChain 0.2.11 and will be removed in 1.0. An updated version of the class exists in the :class:`~langchain-aws package and should be used instead. To use it run `pip install -U :class:`~langchain-aws` and import as `from :class:`~langchain_aws import BedrockEmbeddings``.\n",
      "  emb_model = BedrockEmbeddings(model_id=\"amazon.titan-embed-text-v2:0\", region_name='us-west-2', model_kwargs={\"dimensions\":1024})\n"
     ]
    }
   ],
   "source": [
    "from langchain_community.embeddings import BedrockEmbeddings\n",
    "\n",
    "emb_model = BedrockEmbeddings(model_id=\"amazon.titan-embed-text-v2:0\", region_name='us-west-2', model_kwargs={\"dimensions\":1024}) \n",
    "OUTPUT_FILE_PATH2 = \"./chinook_detailed_schema.json\"\n",
    "\n",
    "def embedding_summary(emb_model):\n",
    "    with open(OUTPUT_FILE_PATH1, 'r', encoding='utf-8') as input_file:\n",
    "        data_list = json.load(input_file)\n",
    "\n",
    "    for data in data_list:\n",
    "        table_name = list(data.keys())[0]\n",
    "        table_summary = data[table_name][\"table_summary\"]\n",
    "        data[table_name][\"table_summary_v\"] = emb_model.embed_query(table_summary)\n",
    "    \n",
    "    with open(OUTPUT_FILE_PATH2, 'w', encoding='utf-8') as output_file:\n",
    "        json.dump(data_list, output_file, ensure_ascii=False, indent=4)\n",
    "\n",
    "embedding_summary(emb_model)"
   ]
  },
  {
   "cell_type": "markdown",
   "id": "30edc234-6e09-48df-9a21-491683c00666",
   "metadata": {},
   "source": [
    "#### 이제 `text-to-sql-bedrock/lab3_text2sql_schema_preparation/chinook_detailed_schema_temp.json` 파일을 열어보면, \n",
    "#### table_summary 및 이에 대한 임베딩이 스키마 문서에 추가되어 있습니다."
   ]
  },
  {
   "cell_type": "code",
   "execution_count": 18,
   "id": "021ea3a0-7f48-441c-9d73-faa6f3fd472b",
   "metadata": {
    "tags": []
   },
   "outputs": [
    {
     "name": "stdout",
     "output_type": "stream",
     "text": [
      "Bulk-inserted all items successfully.\n"
     ]
    }
   ],
   "source": [
    "def load_detailed_schema_descriptions(os_client):\n",
    "\n",
    "    with open(OUTPUT_FILE_PATH2, 'r') as file:\n",
    "        schema_data = json.load(file)\n",
    "\n",
    "    bulk_data = []\n",
    "    for table in schema_data:\n",
    "        for table_name, table_info in table.items():\n",
    "            table_doc = {\n",
    "                \"table_name\": table_name,\n",
    "                \"table_desc\": table_info[\"table_desc\"],\n",
    "                \"columns\": [{\"col_name\": col[\"col\"], \"col_desc\": col[\"col_desc\"]} for col in table_info[\"cols\"]],\n",
    "                \"table_summary\": table_info[\"table_summary\"],\n",
    "                \"table_summary_v\": table_info[\"table_summary_v\"]\n",
    "            }\n",
    "            bulk_data.append({\"index\": {\"_index\": INDEX_NAME, \"_id\": table_name}})\n",
    "            bulk_data.append(table_doc)\n",
    "    \n",
    "    bulk_data_str = '\\n'.join(json.dumps(item) for item in bulk_data) + '\\n'\n",
    "\n",
    "    response = os_client.bulk(body=bulk_data_str)\n",
    "    if response[\"errors\"]:\n",
    "        print(\"There were errors during bulk indexing:\")\n",
    "        for item in response[\"items\"]:\n",
    "            if 'index' in item and item['index']['status'] >= 400:\n",
    "                print(f\"Error: {item['index']['error']['reason']}\")\n",
    "    else:\n",
    "        print(\"Bulk-inserted all items successfully.\")\n",
    "\n",
    "load_detailed_schema_descriptions(os_client)"
   ]
  },
  {
   "cell_type": "markdown",
   "id": "ee3bae4d-72fb-4086-a708-1195335c8fd2",
   "metadata": {},
   "source": [
    "#### 이제 OpenSearch에 스키마 정보의 저장을 완료했습니다."
   ]
  }
 ],
 "metadata": {
  "kernelspec": {
   "display_name": "base",
   "language": "python",
   "name": "python3"
  },
  "language_info": {
   "codemirror_mode": {
    "name": "ipython",
    "version": 3
   },
   "file_extension": ".py",
   "mimetype": "text/x-python",
   "name": "python",
   "nbconvert_exporter": "python",
   "pygments_lexer": "ipython3",
   "version": "3.12.9"
  }
 },
 "nbformat": 4,
 "nbformat_minor": 5
}
