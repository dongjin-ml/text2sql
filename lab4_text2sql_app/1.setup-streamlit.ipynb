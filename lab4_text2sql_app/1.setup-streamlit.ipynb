{
 "cells": [
  {
   "cell_type": "markdown",
   "id": "f6e04355-88a5-4e56-b1a2-a55568adcd89",
   "metadata": {},
   "source": [
    "# Lab. 4-1 Streamlit 애플리케이션 환경 설정\n"
   ]
  },
  {
   "cell_type": "code",
   "execution_count": 1,
   "id": "99434666-135c-4320-877e-dee3e7093a50",
   "metadata": {
    "scrolled": true,
    "tags": []
   },
   "outputs": [
    {
     "name": "stdout",
     "output_type": "stream",
     "text": [
      "Collecting streamlit\n",
      "  Downloading streamlit-1.40.0-py2.py3-none-any.whl.metadata (8.5 kB)\n",
      "Collecting altair<6,>=4.0 (from streamlit)\n",
      "  Downloading altair-5.4.1-py3-none-any.whl.metadata (9.4 kB)\n",
      "Requirement already satisfied: blinker<2,>=1.0.0 in /home/ec2-user/anaconda3/envs/python3/lib/python3.10/site-packages (from streamlit) (1.8.2)\n",
      "Requirement already satisfied: cachetools<6,>=4.0 in /home/ec2-user/anaconda3/envs/python3/lib/python3.10/site-packages (from streamlit) (5.5.0)\n",
      "Requirement already satisfied: click<9,>=7.0 in /home/ec2-user/anaconda3/envs/python3/lib/python3.10/site-packages (from streamlit) (8.1.7)\n",
      "Requirement already satisfied: numpy<3,>=1.20 in /home/ec2-user/anaconda3/envs/python3/lib/python3.10/site-packages (from streamlit) (1.26.4)\n",
      "Requirement already satisfied: packaging<25,>=20 in /home/ec2-user/anaconda3/envs/python3/lib/python3.10/site-packages (from streamlit) (24.2)\n",
      "Requirement already satisfied: pandas<3,>=1.4.0 in /home/ec2-user/anaconda3/envs/python3/lib/python3.10/site-packages (from streamlit) (1.5.3)\n",
      "Requirement already satisfied: pillow<12,>=7.1.0 in /home/ec2-user/anaconda3/envs/python3/lib/python3.10/site-packages (from streamlit) (11.0.0)\n",
      "Requirement already satisfied: protobuf<6,>=3.20 in /home/ec2-user/anaconda3/envs/python3/lib/python3.10/site-packages (from streamlit) (4.25.5)\n",
      "Requirement already satisfied: pyarrow>=7.0 in /home/ec2-user/anaconda3/envs/python3/lib/python3.10/site-packages (from streamlit) (17.0.0)\n",
      "Requirement already satisfied: requests<3,>=2.27 in /home/ec2-user/anaconda3/envs/python3/lib/python3.10/site-packages (from streamlit) (2.32.3)\n",
      "Requirement already satisfied: rich<14,>=10.14.0 in /home/ec2-user/anaconda3/envs/python3/lib/python3.10/site-packages (from streamlit) (13.9.3)\n",
      "Requirement already satisfied: tenacity<10,>=8.1.0 in /home/ec2-user/anaconda3/envs/python3/lib/python3.10/site-packages (from streamlit) (9.0.0)\n",
      "Requirement already satisfied: toml<2,>=0.10.1 in /home/ec2-user/anaconda3/envs/python3/lib/python3.10/site-packages (from streamlit) (0.10.2)\n",
      "Requirement already satisfied: typing-extensions<5,>=4.3.0 in /home/ec2-user/anaconda3/envs/python3/lib/python3.10/site-packages (from streamlit) (4.12.2)\n",
      "Requirement already satisfied: gitpython!=3.1.19,<4,>=3.0.7 in /home/ec2-user/anaconda3/envs/python3/lib/python3.10/site-packages (from streamlit) (3.1.43)\n",
      "Collecting pydeck<1,>=0.8.0b4 (from streamlit)\n",
      "  Downloading pydeck-0.9.1-py2.py3-none-any.whl.metadata (4.1 kB)\n",
      "Requirement already satisfied: tornado<7,>=6.0.3 in /home/ec2-user/anaconda3/envs/python3/lib/python3.10/site-packages (from streamlit) (6.4.1)\n",
      "Requirement already satisfied: watchdog<6,>=2.1.5 in /home/ec2-user/anaconda3/envs/python3/lib/python3.10/site-packages (from streamlit) (5.0.3)\n",
      "Requirement already satisfied: jinja2 in /home/ec2-user/anaconda3/envs/python3/lib/python3.10/site-packages (from altair<6,>=4.0->streamlit) (3.1.4)\n",
      "Requirement already satisfied: jsonschema>=3.0 in /home/ec2-user/anaconda3/envs/python3/lib/python3.10/site-packages (from altair<6,>=4.0->streamlit) (4.23.0)\n",
      "Collecting narwhals>=1.5.2 (from altair<6,>=4.0->streamlit)\n",
      "  Downloading narwhals-1.13.3-py3-none-any.whl.metadata (7.4 kB)\n",
      "Requirement already satisfied: gitdb<5,>=4.0.1 in /home/ec2-user/anaconda3/envs/python3/lib/python3.10/site-packages (from gitpython!=3.1.19,<4,>=3.0.7->streamlit) (4.0.11)\n",
      "Requirement already satisfied: python-dateutil>=2.8.1 in /home/ec2-user/anaconda3/envs/python3/lib/python3.10/site-packages (from pandas<3,>=1.4.0->streamlit) (2.9.0)\n",
      "Requirement already satisfied: pytz>=2020.1 in /home/ec2-user/anaconda3/envs/python3/lib/python3.10/site-packages (from pandas<3,>=1.4.0->streamlit) (2024.2)\n",
      "Requirement already satisfied: charset-normalizer<4,>=2 in /home/ec2-user/anaconda3/envs/python3/lib/python3.10/site-packages (from requests<3,>=2.27->streamlit) (3.4.0)\n",
      "Requirement already satisfied: idna<4,>=2.5 in /home/ec2-user/anaconda3/envs/python3/lib/python3.10/site-packages (from requests<3,>=2.27->streamlit) (3.10)\n",
      "Requirement already satisfied: urllib3<3,>=1.21.1 in /home/ec2-user/anaconda3/envs/python3/lib/python3.10/site-packages (from requests<3,>=2.27->streamlit) (2.2.3)\n",
      "Requirement already satisfied: certifi>=2017.4.17 in /home/ec2-user/anaconda3/envs/python3/lib/python3.10/site-packages (from requests<3,>=2.27->streamlit) (2024.8.30)\n",
      "Requirement already satisfied: markdown-it-py>=2.2.0 in /home/ec2-user/anaconda3/envs/python3/lib/python3.10/site-packages (from rich<14,>=10.14.0->streamlit) (3.0.0)\n",
      "Requirement already satisfied: pygments<3.0.0,>=2.13.0 in /home/ec2-user/anaconda3/envs/python3/lib/python3.10/site-packages (from rich<14,>=10.14.0->streamlit) (2.18.0)\n",
      "Requirement already satisfied: smmap<6,>=3.0.1 in /home/ec2-user/anaconda3/envs/python3/lib/python3.10/site-packages (from gitdb<5,>=4.0.1->gitpython!=3.1.19,<4,>=3.0.7->streamlit) (5.0.1)\n",
      "Requirement already satisfied: MarkupSafe>=2.0 in /home/ec2-user/anaconda3/envs/python3/lib/python3.10/site-packages (from jinja2->altair<6,>=4.0->streamlit) (3.0.2)\n",
      "Requirement already satisfied: attrs>=22.2.0 in /home/ec2-user/anaconda3/envs/python3/lib/python3.10/site-packages (from jsonschema>=3.0->altair<6,>=4.0->streamlit) (23.2.0)\n",
      "Requirement already satisfied: jsonschema-specifications>=2023.03.6 in /home/ec2-user/anaconda3/envs/python3/lib/python3.10/site-packages (from jsonschema>=3.0->altair<6,>=4.0->streamlit) (2024.10.1)\n",
      "Requirement already satisfied: referencing>=0.28.4 in /home/ec2-user/anaconda3/envs/python3/lib/python3.10/site-packages (from jsonschema>=3.0->altair<6,>=4.0->streamlit) (0.35.1)\n",
      "Requirement already satisfied: rpds-py>=0.7.1 in /home/ec2-user/anaconda3/envs/python3/lib/python3.10/site-packages (from jsonschema>=3.0->altair<6,>=4.0->streamlit) (0.20.0)\n",
      "Requirement already satisfied: mdurl~=0.1 in /home/ec2-user/anaconda3/envs/python3/lib/python3.10/site-packages (from markdown-it-py>=2.2.0->rich<14,>=10.14.0->streamlit) (0.1.2)\n",
      "Requirement already satisfied: six>=1.5 in /home/ec2-user/anaconda3/envs/python3/lib/python3.10/site-packages (from python-dateutil>=2.8.1->pandas<3,>=1.4.0->streamlit) (1.16.0)\n",
      "Downloading streamlit-1.40.0-py2.py3-none-any.whl (8.6 MB)\n",
      "\u001b[2K   \u001b[90m━━━━━━━━━━━━━━━━━━━━━━━━━━━━━━━━━━━━━━━━\u001b[0m \u001b[32m8.6/8.6 MB\u001b[0m \u001b[31m114.3 MB/s\u001b[0m eta \u001b[36m0:00:00\u001b[0m\n",
      "\u001b[?25hDownloading altair-5.4.1-py3-none-any.whl (658 kB)\n",
      "\u001b[2K   \u001b[90m━━━━━━━━━━━━━━━━━━━━━━━━━━━━━━━━━━━━━━━━\u001b[0m \u001b[32m658.1/658.1 kB\u001b[0m \u001b[31m47.3 MB/s\u001b[0m eta \u001b[36m0:00:00\u001b[0m\n",
      "\u001b[?25hDownloading pydeck-0.9.1-py2.py3-none-any.whl (6.9 MB)\n",
      "\u001b[2K   \u001b[90m━━━━━━━━━━━━━━━━━━━━━━━━━━━━━━━━━━━━━━━━\u001b[0m \u001b[32m6.9/6.9 MB\u001b[0m \u001b[31m159.9 MB/s\u001b[0m eta \u001b[36m0:00:00\u001b[0m\n",
      "\u001b[?25hDownloading narwhals-1.13.3-py3-none-any.whl (201 kB)\n",
      "Installing collected packages: narwhals, pydeck, altair, streamlit\n",
      "Successfully installed altair-5.4.1 narwhals-1.13.3 pydeck-0.9.1 streamlit-1.40.0\n"
     ]
    }
   ],
   "source": [
    "!pip install streamlit"
   ]
  },
  {
   "cell_type": "markdown",
   "id": "d27cbb39-e3ab-43ea-a64e-5afe87e83b6e",
   "metadata": {},
   "source": [
    "### Streamlit 구동 환경을 설정합니다"
   ]
  },
  {
   "cell_type": "code",
   "execution_count": 8,
   "id": "30bf6784-3e58-4c57-bafb-72cc4dbb124d",
   "metadata": {
    "tags": []
   },
   "outputs": [],
   "source": [
    "%%bash\n",
    "mkdir -p ~/.streamlit\n",
    "cat > ~/.streamlit/config.toml <<EOF\n",
    "[server]\n",
    "enableXsrfProtection = false\n",
    "enableCORS = false\n",
    "EOF\n"
   ]
  },
  {
   "cell_type": "code",
   "execution_count": 10,
   "id": "513b6b5e-352d-47d4-8720-5f66d20d13e4",
   "metadata": {
    "tags": []
   },
   "outputs": [
    {
     "name": "stdout",
     "output_type": "stream",
     "text": [
      "\n",
      "Collecting usage statistics. To deactivate, set browser.gatherUsageStats to false.\n",
      "\u001b[0m\n",
      "\u001b[0m\n",
      "\u001b[34m\u001b[1m  You can now view your Streamlit app in your browser.\u001b[0m\n",
      "\u001b[0m\n",
      "\u001b[34m  Local URL: \u001b[0m\u001b[1mhttp://localhost:8505\u001b[0m\n",
      "\u001b[34m  Network URL: \u001b[0m\u001b[1mhttp://172.16.7.101:8505\u001b[0m\n",
      "\u001b[34m  External URL: \u001b[0m\u001b[1mhttp://34.209.105.222:8505\u001b[0m\n",
      "\u001b[0m\n",
      "/home/ec2-user/SageMaker/text-to-sql-bedrock/lab4_text2sql_app/src/models.py:11: LangChainDeprecationWarning: The class `BedrockEmbeddings` was deprecated in LangChain 0.2.11 and will be removed in 1.0. An updated version of the class exists in the :class:`~langchain-aws package and should be used instead. To use it run `pip install -U :class:`~langchain-aws` and import as `from :class:`~langchain_aws import BedrockEmbeddings``.\n",
      "  self.emb = BedrockEmbeddings(model_id=\"amazon.titan-embed-text-v2:0\", region_name=self.model_info['region_name'], model_kwargs={\"dimensions\":1024})\n",
      "sql_os_client <src.opensearch.OpenSearchClient object at 0x7f7bb6e45240>\n",
      "schema_os_client <src.opensearch.OpenSearchClient object at 0x7f7b713d4970>\n",
      "sql_os_client <src.opensearch.OpenSearchClient object at 0x7f7b726ad510>\n",
      "schema_os_client <src.opensearch.OpenSearchClient object at 0x7f7b72f63010>\n",
      "2024-11-09 03:15:04.812 Uncaught app exception\n",
      "Traceback (most recent call last):\n",
      "  File \"/home/ec2-user/anaconda3/envs/python3/lib/python3.10/site-packages/streamlit/runtime/scriptrunner/exec_code.py\", line 88, in exec_func_with_error_handling\n",
      "    result = func()\n",
      "  File \"/home/ec2-user/anaconda3/envs/python3/lib/python3.10/site-packages/streamlit/runtime/scriptrunner/script_runner.py\", line 579, in code_to_exec\n",
      "    exec(code, module.__dict__)\n",
      "  File \"/home/ec2-user/SageMaker/text-to-sql-bedrock/lab4_text2sql_app/demo-app.py\", line 146, in <module>\n",
      "    main()\n",
      "  File \"/home/ec2-user/SageMaker/text-to-sql-bedrock/lab4_text2sql_app/demo-app.py\", line 128, in main\n",
      "    db_client = DB_Tool_Client(model_info, database_config, st.session_state['language_select'], sql_os_client, schema_os_client, prompt, history)\n",
      "  File \"/home/ec2-user/SageMaker/text-to-sql-bedrock/lab4_text2sql_app/src/db_utils.py\", line 462, in __init__\n",
      "    self.db_tool = DB_Tools(self.tokens, config['uri'], self.dialect, self.model, self.region, sql_os_client, schema_os_client, language, prompt, history)\n",
      "  File \"/home/ec2-user/SageMaker/text-to-sql-bedrock/lab4_text2sql_app/src/db_utils.py\", line 48, in __init__\n",
      "    self.samples = self.collect_samples()\n",
      "  File \"/home/ec2-user/SageMaker/text-to-sql-bedrock/lab4_text2sql_app/src/db_utils.py\", line 79, in collect_samples\n",
      "    return self.get_sample_queries()\n",
      "  File \"/home/ec2-user/SageMaker/text-to-sql-bedrock/lab4_text2sql_app/src/db_utils.py\", line 104, in get_sample_queries\n",
      "    samples = sql_os_retriever.invoke(self.prompt, ensemble=[0.40, 0.60])\n",
      "  File \"/home/ec2-user/anaconda3/envs/python3/lib/python3.10/site-packages/langchain_core/retrievers.py\", line 254, in invoke\n",
      "    raise e\n",
      "  File \"/home/ec2-user/anaconda3/envs/python3/lib/python3.10/site-packages/langchain_core/retrievers.py\", line 247, in invoke\n",
      "    result = self._get_relevant_documents(\n",
      "  File \"/home/ec2-user/SageMaker/text-to-sql-bedrock/lab4_text2sql_app/src/opensearch.py\", line 72, in _get_relevant_documents\n",
      "    search_result = retriever_utils.search_hybrid(\n",
      "  File \"/home/ec2-user/SageMaker/text-to-sql-bedrock/lab4_text2sql_app/src/opensearch.py\", line 203, in search_hybrid\n",
      "    similar_docs_semantic = cls.search_semantic(\n",
      "  File \"/home/ec2-user/SageMaker/text-to-sql-bedrock/lab4_text2sql_app/src/opensearch.py\", line 120, in search_semantic\n",
      "    search_results = lookup_opensearch_document(\n",
      "  File \"/home/ec2-user/SageMaker/text-to-sql-bedrock/lab4_text2sql_app/src/opensearch.py\", line 256, in lookup_opensearch_document\n",
      "    response = os_conn.search(\n",
      "  File \"/home/ec2-user/anaconda3/envs/python3/lib/python3.10/site-packages/opensearchpy/client/utils.py\", line 176, in _wrapped\n",
      "    return func(*args, params=params, headers=headers, **kwargs)\n",
      "  File \"/home/ec2-user/anaconda3/envs/python3/lib/python3.10/site-packages/opensearchpy/client/__init__.py\", line 2364, in search\n",
      "    return self.transport.perform_request(\n",
      "  File \"/home/ec2-user/anaconda3/envs/python3/lib/python3.10/site-packages/opensearchpy/transport.py\", line 455, in perform_request\n",
      "    raise e\n",
      "  File \"/home/ec2-user/anaconda3/envs/python3/lib/python3.10/site-packages/opensearchpy/transport.py\", line 416, in perform_request\n",
      "    status, headers_response, data = connection.perform_request(\n",
      "  File \"/home/ec2-user/anaconda3/envs/python3/lib/python3.10/site-packages/opensearchpy/connection/http_requests.py\", line 238, in perform_request\n",
      "    self._raise_error(\n",
      "  File \"/home/ec2-user/anaconda3/envs/python3/lib/python3.10/site-packages/opensearchpy/connection/base.py\", line 315, in _raise_error\n",
      "    raise HTTP_EXCEPTIONS.get(status_code, TransportError)(\n",
      "opensearchpy.exceptions.RequestError: RequestError(400, 'search_phase_execution_exception', \"failed to create query: Field 'input_v' is not knn_vector type.\")\n",
      "sql_os_client <src.opensearch.OpenSearchClient object at 0x7f7b6f273ee0> example_queries\n",
      "schema_os_client <src.opensearch.OpenSearchClient object at 0x7f7b6f271330> schema_descriptions\n",
      "sql_os_client <src.opensearch.OpenSearchClient object at 0x7f7b71958190> example_queries\n",
      "schema_os_client <src.opensearch.OpenSearchClient object at 0x7f7b7094b790> schema_description\n",
      "sql_os_client <src.opensearch.OpenSearchClient object at 0x7f7b726afbb0> example_queries\n",
      "schema_os_client <src.opensearch.OpenSearchClient object at 0x7f7b72469a50> schema_description\n",
      "{'content': [{'toolUse': {'toolUseId': 'tooluse_yxwF5VtaTkuFwItcatNjYQ', 'name': 'query_generation', 'input': {'input': ' '}}}], 'role': 'assistant'}\n",
      "2024-11-09 03:31:25.046 Uncaught app exception\n",
      "Traceback (most recent call last):\n",
      "  File \"/home/ec2-user/anaconda3/envs/python3/lib/python3.10/site-packages/streamlit/runtime/scriptrunner/exec_code.py\", line 88, in exec_func_with_error_handling\n",
      "    result = func()\n",
      "  File \"/home/ec2-user/anaconda3/envs/python3/lib/python3.10/site-packages/streamlit/runtime/scriptrunner/script_runner.py\", line 579, in code_to_exec\n",
      "    exec(code, module.__dict__)\n",
      "  File \"/home/ec2-user/SageMaker/text-to-sql-bedrock/lab4_text2sql_app/demo-app.py\", line 146, in <module>\n",
      "    main()\n",
      "  File \"/home/ec2-user/SageMaker/text-to-sql-bedrock/lab4_text2sql_app/demo-app.py\", line 132, in main\n",
      "    response, tokens = db_client.invoke(callback)\n",
      "  File \"/home/ec2-user/SageMaker/text-to-sql-bedrock/lab4_text2sql_app/src/db_utils.py\", line 501, in invoke\n",
      "    message = self.db_tool.tool_router(tool_use, callback)\n",
      "  File \"/home/ec2-user/SageMaker/text-to-sql-bedrock/lab4_text2sql_app/src/db_utils.py\", line 425, in tool_router\n",
      "    res = self.query_generation(tool['input']['input'])\n",
      "  File \"/home/ec2-user/SageMaker/text-to-sql-bedrock/lab4_text2sql_app/src/db_utils.py\", line 289, in query_generation\n",
      "    table_summaries = self.get_table_summaries_by_similarities() # RAG\n",
      "  File \"/home/ec2-user/SageMaker/text-to-sql-bedrock/lab4_text2sql_app/src/db_utils.py\", line 124, in get_table_summaries_by_similarities\n",
      "    matched_tables = sql_os_retriever.invoke(self.prompt, ensemble = [0.40, 0.60])\n",
      "  File \"/home/ec2-user/anaconda3/envs/python3/lib/python3.10/site-packages/langchain_core/retrievers.py\", line 254, in invoke\n",
      "    raise e\n",
      "  File \"/home/ec2-user/anaconda3/envs/python3/lib/python3.10/site-packages/langchain_core/retrievers.py\", line 247, in invoke\n",
      "    result = self._get_relevant_documents(\n",
      "  File \"/home/ec2-user/SageMaker/text-to-sql-bedrock/lab4_text2sql_app/src/opensearch.py\", line 72, in _get_relevant_documents\n",
      "    search_result = retriever_utils.search_hybrid(\n",
      "  File \"/home/ec2-user/SageMaker/text-to-sql-bedrock/lab4_text2sql_app/src/opensearch.py\", line 203, in search_hybrid\n",
      "    similar_docs_semantic = cls.search_semantic(\n",
      "  File \"/home/ec2-user/SageMaker/text-to-sql-bedrock/lab4_text2sql_app/src/opensearch.py\", line 120, in search_semantic\n",
      "    search_results = lookup_opensearch_document(\n",
      "  File \"/home/ec2-user/SageMaker/text-to-sql-bedrock/lab4_text2sql_app/src/opensearch.py\", line 256, in lookup_opensearch_document\n",
      "    response = os_conn.search(\n",
      "  File \"/home/ec2-user/anaconda3/envs/python3/lib/python3.10/site-packages/opensearchpy/client/utils.py\", line 176, in _wrapped\n",
      "    return func(*args, params=params, headers=headers, **kwargs)\n",
      "  File \"/home/ec2-user/anaconda3/envs/python3/lib/python3.10/site-packages/opensearchpy/client/__init__.py\", line 2364, in search\n",
      "    return self.transport.perform_request(\n",
      "  File \"/home/ec2-user/anaconda3/envs/python3/lib/python3.10/site-packages/opensearchpy/transport.py\", line 455, in perform_request\n",
      "    raise e\n",
      "  File \"/home/ec2-user/anaconda3/envs/python3/lib/python3.10/site-packages/opensearchpy/transport.py\", line 416, in perform_request\n",
      "    status, headers_response, data = connection.perform_request(\n",
      "  File \"/home/ec2-user/anaconda3/envs/python3/lib/python3.10/site-packages/opensearchpy/connection/http_requests.py\", line 238, in perform_request\n",
      "    self._raise_error(\n",
      "  File \"/home/ec2-user/anaconda3/envs/python3/lib/python3.10/site-packages/opensearchpy/connection/base.py\", line 315, in _raise_error\n",
      "    raise HTTP_EXCEPTIONS.get(status_code, TransportError)(\n",
      "opensearchpy.exceptions.RequestError: RequestError(400, 'search_phase_execution_exception', \"failed to create query: Field 'table_summary_v' is not knn_vector type.\")\n",
      "sql_os_client <src.opensearch.OpenSearchClient object at 0x7f7b7172c100> example_queries\n",
      "schema_os_client <src.opensearch.OpenSearchClient object at 0x7f7bb41b3a30> schema_description\n",
      "sql_os_client <src.opensearch.OpenSearchClient object at 0x7f7bb4de42e0> example_queries\n",
      "schema_os_client <src.opensearch.OpenSearchClient object at 0x7f7bb4989780> schema_description\n",
      "{'content': [{'toolUse': {'toolUseId': 'tooluse_xJ56KOBlR3m_3KzDGASUQw', 'name': 'query_generation', 'input': {'input': ' '}}}], 'role': 'assistant'}\n",
      "^C\n",
      "\u001b[34m  Stopping...\u001b[0m\n"
     ]
    }
   ],
   "source": [
    "!streamlit run demo-app.py --server.port 8505"
   ]
  },
  {
   "cell_type": "markdown",
   "id": "5248519f-00f3-431e-b6d4-6c2b9013bb2e",
   "metadata": {},
   "source": [
    "터미널에서 aws-kr-retail-cpg-genai/demo-app.py 파일 경로로 이동하여 아래 명령어를 실행\n",
    "\n",
    "`cd text-to-sql-bedrock/lab4_text2sql_app`\n",
    "\n",
    "`streamlit run demo-app.py --server.port 8505`\n",
    "\n",
    "위 명령어는 demo-app.py라는 Python 스크립트에 정의된 Streamlit 애플리케이션을 시작합니다. 해당 애플리케이션은 포트 번호 8505에서 서비스됩니다.\n",
    "\n",
    "#### 현재 브라우저의 URL을 복사해서 아래 url 변수에 입력"
   ]
  },
  {
   "cell_type": "code",
   "execution_count": 5,
   "id": "6b75e019-4f41-487c-a41c-a72f6429e5a3",
   "metadata": {
    "tags": []
   },
   "outputs": [],
   "source": [
    "url = \"https://notebook-gpu-rxc8.notebook.us-west-2.sagemaker.aws/lab/tree/text-to-sql-bedrock/lab4_text2sql_app/1.setup-streamlit.ipynb\"\n",
    "# 형식 : \"https://.../setup-streamlit.ipynb\""
   ]
  },
  {
   "cell_type": "code",
   "execution_count": 6,
   "id": "936f9733-4211-4ebe-b03d-61ee4580a122",
   "metadata": {
    "tags": []
   },
   "outputs": [
    {
     "name": "stdout",
     "output_type": "stream",
     "text": [
      "https://notebook-gpu-rxc8.notebook.us-west-2.sagemaker.aws/lab/tree/text-to-sql-bedrock/lab4_text2sql_app/1.setup-streamlit.ipynbdefault/proxy/8505/\n"
     ]
    }
   ],
   "source": [
    "base_url = url.split(\"default/\")[0]\n",
    "new_url = base_url + \"default/proxy/8505/\"\n",
    "\n",
    "print(new_url)"
   ]
  },
  {
   "cell_type": "code",
   "execution_count": null,
   "id": "ef5778f4-5491-4bf4-92f7-f768c657784a",
   "metadata": {},
   "outputs": [],
   "source": []
  }
 ],
 "metadata": {
  "kernelspec": {
   "display_name": "conda_python3",
   "language": "python",
   "name": "conda_python3"
  },
  "language_info": {
   "codemirror_mode": {
    "name": "ipython",
    "version": 3
   },
   "file_extension": ".py",
   "mimetype": "text/x-python",
   "name": "python",
   "nbconvert_exporter": "python",
   "pygments_lexer": "ipython3",
   "version": "3.10.14"
  }
 },
 "nbformat": 4,
 "nbformat_minor": 5
}
