{
 "cells": [
  {
   "cell_type": "markdown",
   "id": "835c0035-2fab-44bb-97aa-2a900f970469",
   "metadata": {},
   "source": [
    "# Lab. 1 Text2SQL Basic (Pyspark & Amazon S3)\n",
    "\n",
    "#### 이 실습에서는 Text2SQL을 활용해서 S3에 저장된 데이터에 Spark 쿼리로 접근하는 방법을 실습합니다.\n",
    "\n",
    "#### Amazon S3에 저장된 로그나 데이터마트에 자연어로 데이터를 조회하려는 경우, Text2SQL 및 Spark을 사용할 수 있습니다.\n",
    "\n",
    "#### 여기서는 샘플 쿼리와 스키마 정보를 하나의 컨텍스트로 제공합니다. 데이터 접근 방식이 단순하고 사용자의 질문이 정형화 되어있는 경우, 이렇듯 가장 간단하게 Text2SQL을 시도할 수 있습니다."
   ]
  },
  {
   "cell_type": "markdown",
   "id": "6432ffe4-8784-43f4-a9ab-af03cdfb9195",
   "metadata": {},
   "source": [
    "## Step 0: 라이브러리 설치"
   ]
  },
  {
   "cell_type": "code",
   "execution_count": 2,
   "id": "75f0f456-7b6c-4027-9c65-c636ccc28e27",
   "metadata": {
    "tags": []
   },
   "outputs": [
    {
     "name": "stdout",
     "output_type": "stream",
     "text": [
      "Looking in links: /tmp/tmp8s9bbpmb\n",
      "Requirement already satisfied: setuptools in /home/ec2-user/anaconda3/envs/python3/lib/python3.10/site-packages (75.1.0)\n",
      "Requirement already satisfied: pip in /home/ec2-user/anaconda3/envs/python3/lib/python3.10/site-packages (24.2)\n"
     ]
    }
   ],
   "source": [
    "!python -m ensurepip --upgrade\n",
    "!pip install \"sqlalchemy\" --quiet\n",
    "!pip install \"boto3>=1.34.116\"  --quiet\n",
    "!pip install \"jinja2\" --quiet\n",
    "!pip install \"botocore\" --quiet\n",
    "!pip install \"pandas\" --quiet\n",
    "!pip install \"PyAthena\" --quiet\n",
    "!pip install \"faiss-cpu\" --quiet\n",
    "!pip install \"awswrangler\" --quiet"
   ]
  },
  {
   "cell_type": "markdown",
   "id": "b26c09b3-ee3d-4e6c-b6f5-3652ac4d54d1",
   "metadata": {},
   "source": [
    "## Step 1: S3 데이터 생성"
   ]
  },
  {
   "cell_type": "code",
   "execution_count": 3,
   "id": "42bfbd76-cd30-4431-8a82-a0626c5b3d1a",
   "metadata": {
    "tags": []
   },
   "outputs": [],
   "source": [
    "# Athena 결과를 PySpark로 가져오는 예시\n",
    "import os\n",
    "import pandas as pd\n",
    "import awswrangler as wr\n",
    "#from pyathena import connect"
   ]
  },
  {
   "cell_type": "code",
   "execution_count": 4,
   "id": "93a2f9a3-7eb8-430d-8031-d817af9da0fc",
   "metadata": {
    "tags": []
   },
   "outputs": [],
   "source": [
    "bucket_name = \"text2sql-db\" #<your bucket name>\n",
    "data_path = f\"s3://{bucket_name}/data\"\n",
    "results_path = f\"{bucket_name}/results\"\n",
    "db_name = \"text2sql\""
   ]
  },
  {
   "cell_type": "markdown",
   "id": "5fc6f485-6f05-459d-9f9d-a401c86b9d30",
   "metadata": {
    "tags": []
   },
   "source": [
    "### Checking/Creating Glue Catalog Databases"
   ]
  },
  {
   "cell_type": "code",
   "execution_count": 5,
   "id": "a571f81c-5b38-480a-b941-489cd4172ef0",
   "metadata": {
    "tags": []
   },
   "outputs": [],
   "source": [
    "wr.catalog.delete_database(\"text2sql\")"
   ]
  },
  {
   "cell_type": "code",
   "execution_count": 6,
   "id": "14150157-2936-46c3-8d4b-046ee9dd0230",
   "metadata": {
    "tags": []
   },
   "outputs": [],
   "source": [
    "if db_name not in wr.catalog.databases().values:\n",
    "    wr.catalog.create_database(db_name)\n",
    "    #wr.catalog.delete_database(\"text2sql\")"
   ]
  },
  {
   "cell_type": "markdown",
   "id": "e26d0257-6615-4869-bbee-cf7e0df4a0a0",
   "metadata": {
    "tags": []
   },
   "source": [
    "### Creating a Parquet Table from or parquet files"
   ]
  },
  {
   "cell_type": "code",
   "execution_count": 9,
   "id": "8ddd1752-91f0-40bc-a009-539e568a66a4",
   "metadata": {
    "tags": []
   },
   "outputs": [],
   "source": [
    "import glob\n",
    "import sqlite3"
   ]
  },
  {
   "cell_type": "code",
   "execution_count": 10,
   "id": "fac26a9f-2e26-4c8e-9fce-6cc136b9d3f2",
   "metadata": {
    "tags": []
   },
   "outputs": [
    {
     "name": "stdout",
     "output_type": "stream",
     "text": [
      "Tables: ['Album', 'Artist', 'Customer', 'Employee', 'Genre', 'Invoice', 'InvoiceLine', 'MediaType', 'Playlist', 'PlaylistTrack', 'Track']\n"
     ]
    }
   ],
   "source": [
    "conn = sqlite3.connect('Chinook.db')\n",
    "cursor = conn.cursor()\n",
    "\n",
    "def get_table_list():\n",
    "    cursor.execute(\"SELECT name FROM sqlite_master WHERE type='table';\")\n",
    "    tables = [table[0] for table in cursor.fetchall()]\n",
    "    return tables\n",
    "\n",
    "tables = get_table_list()\n",
    "print(\"Tables:\", tables)\n",
    "\n",
    "# 연결 종료\n",
    "conn.close()"
   ]
  },
  {
   "cell_type": "markdown",
   "id": "1a4d4fcb-2d38-4511-a2b5-6f5ac80dbd19",
   "metadata": {},
   "source": [
    "### Upload files to S3"
   ]
  },
  {
   "cell_type": "code",
   "execution_count": 11,
   "id": "6ccd1a60-556c-4940-b965-343552f11312",
   "metadata": {
    "tags": []
   },
   "outputs": [
    {
     "name": "stdout",
     "output_type": "stream",
     "text": [
      "Album\n",
      "Artist\n",
      "Customer\n",
      "Employee\n",
      "Genre\n",
      "Invoice\n",
      "InvoiceLine\n",
      "MediaType\n",
      "Playlist\n",
      "PlaylistTrack\n",
      "Track\n"
     ]
    }
   ],
   "source": [
    "import pandas as pd\n",
    "import pyarrow as pa\n",
    "\n",
    "for table in tables:\n",
    "    # 전체 테이블을 DataFrame으로 읽기\n",
    "    df = pd.read_sql_query(f'SELECT * FROM {table}', sqlite3.connect('Chinook.db'))\n",
    "    \n",
    "    wr.s3.to_parquet(\n",
    "        df=df,\n",
    "        path=os.path.join(data_path, table),\n",
    "        dataset=True,\n",
    "        mode=\"overwrite\",\n",
    "        database=\"text2sql\",\n",
    "        table=table\n",
    "    )\n",
    "    print (table)\n"
   ]
  },
  {
   "cell_type": "code",
   "execution_count": 13,
   "id": "9440b912-38ff-4a70-b8e3-d2a72a165338",
   "metadata": {
    "tags": []
   },
   "outputs": [
    {
     "data": {
      "text/html": [
       "<div>\n",
       "<style scoped>\n",
       "    .dataframe tbody tr th:only-of-type {\n",
       "        vertical-align: middle;\n",
       "    }\n",
       "\n",
       "    .dataframe tbody tr th {\n",
       "        vertical-align: top;\n",
       "    }\n",
       "\n",
       "    .dataframe thead th {\n",
       "        text-align: right;\n",
       "    }\n",
       "</style>\n",
       "<table border=\"1\" class=\"dataframe\">\n",
       "  <thead>\n",
       "    <tr style=\"text-align: right;\">\n",
       "      <th></th>\n",
       "      <th>albumid</th>\n",
       "      <th>title</th>\n",
       "      <th>artistid</th>\n",
       "    </tr>\n",
       "  </thead>\n",
       "  <tbody>\n",
       "    <tr>\n",
       "      <th>0</th>\n",
       "      <td>1</td>\n",
       "      <td>For Those About To Rock We Salute You</td>\n",
       "      <td>1</td>\n",
       "    </tr>\n",
       "    <tr>\n",
       "      <th>1</th>\n",
       "      <td>2</td>\n",
       "      <td>Balls to the Wall</td>\n",
       "      <td>2</td>\n",
       "    </tr>\n",
       "    <tr>\n",
       "      <th>2</th>\n",
       "      <td>3</td>\n",
       "      <td>Restless and Wild</td>\n",
       "      <td>2</td>\n",
       "    </tr>\n",
       "    <tr>\n",
       "      <th>3</th>\n",
       "      <td>4</td>\n",
       "      <td>Let There Be Rock</td>\n",
       "      <td>1</td>\n",
       "    </tr>\n",
       "    <tr>\n",
       "      <th>4</th>\n",
       "      <td>5</td>\n",
       "      <td>Big Ones</td>\n",
       "      <td>3</td>\n",
       "    </tr>\n",
       "    <tr>\n",
       "      <th>...</th>\n",
       "      <td>...</td>\n",
       "      <td>...</td>\n",
       "      <td>...</td>\n",
       "    </tr>\n",
       "    <tr>\n",
       "      <th>342</th>\n",
       "      <td>343</td>\n",
       "      <td>Respighi:Pines of Rome</td>\n",
       "      <td>226</td>\n",
       "    </tr>\n",
       "    <tr>\n",
       "      <th>343</th>\n",
       "      <td>344</td>\n",
       "      <td>Schubert: The Late String Quartets &amp; String Qu...</td>\n",
       "      <td>272</td>\n",
       "    </tr>\n",
       "    <tr>\n",
       "      <th>344</th>\n",
       "      <td>345</td>\n",
       "      <td>Monteverdi: L'Orfeo</td>\n",
       "      <td>273</td>\n",
       "    </tr>\n",
       "    <tr>\n",
       "      <th>345</th>\n",
       "      <td>346</td>\n",
       "      <td>Mozart: Chamber Music</td>\n",
       "      <td>274</td>\n",
       "    </tr>\n",
       "    <tr>\n",
       "      <th>346</th>\n",
       "      <td>347</td>\n",
       "      <td>Koyaanisqatsi (Soundtrack from the Motion Pict...</td>\n",
       "      <td>275</td>\n",
       "    </tr>\n",
       "  </tbody>\n",
       "</table>\n",
       "<p>347 rows × 3 columns</p>\n",
       "</div>"
      ],
      "text/plain": [
       "     albumid                                              title  artistid\n",
       "0          1              For Those About To Rock We Salute You         1\n",
       "1          2                                  Balls to the Wall         2\n",
       "2          3                                  Restless and Wild         2\n",
       "3          4                                  Let There Be Rock         1\n",
       "4          5                                           Big Ones         3\n",
       "..       ...                                                ...       ...\n",
       "342      343                             Respighi:Pines of Rome       226\n",
       "343      344  Schubert: The Late String Quartets & String Qu...       272\n",
       "344      345                                Monteverdi: L'Orfeo       273\n",
       "345      346                              Mozart: Chamber Music       274\n",
       "346      347  Koyaanisqatsi (Soundtrack from the Motion Pict...       275\n",
       "\n",
       "[347 rows x 3 columns]"
      ]
     },
     "execution_count": 13,
     "metadata": {},
     "output_type": "execute_result"
    }
   ],
   "source": [
    "query = \"\"\"\n",
    "SELECT *\n",
    "FROM Album\n",
    "\"\"\"\n",
    "\n",
    "df = wr.athena.read_sql_query(\n",
    "    query,\n",
    "    database=\"text2sql\",\n",
    "    ctas_approach=False\n",
    ")\n",
    "df"
   ]
  },
  {
   "cell_type": "markdown",
   "id": "d66353b5-8942-4087-b1b3-c57af3fde533",
   "metadata": {},
   "source": [
    "## Step 2: Athena 연결"
   ]
  },
  {
   "cell_type": "code",
   "execution_count": 15,
   "id": "2201c470-a24e-412e-a6bb-7f3977e6b886",
   "metadata": {
    "tags": []
   },
   "outputs": [],
   "source": [
    "import json\n",
    "import boto3\n",
    "import sys\n",
    "\n",
    "sys.path.append('../')\n",
    "from libs.din_sql import din_sql_lib as dsl"
   ]
  },
  {
   "cell_type": "code",
   "execution_count": 16,
   "id": "68a516ee-daf5-4460-a4fb-8067cefec3aa",
   "metadata": {
    "tags": []
   },
   "outputs": [],
   "source": [
    "ATHENA_CATALOG_NAME = 'AwsDataCatalog'\n",
    "ATHENA_RESULTS_S3_LOCATION = results_path\n",
    "DB_NAME = db_name"
   ]
  },
  {
   "cell_type": "code",
   "execution_count": 19,
   "id": "14d6d660-6f3c-429f-8cf9-2cca282f92d1",
   "metadata": {
    "tags": []
   },
   "outputs": [],
   "source": [
    "from libs.din_sql import din_sql_lib as dsl\n",
    "model_id = 'anthropic.claude-3-5-sonnet-20241022-v2:0'\n",
    "din_sql = dsl.DIN_SQL(bedrock_model_id=model_id)"
   ]
  },
  {
   "cell_type": "code",
   "execution_count": 20,
   "id": "f8b27af7-ed37-498d-b3dc-4993f6e8805c",
   "metadata": {
    "tags": []
   },
   "outputs": [
    {
     "name": "stdout",
     "output_type": "stream",
     "text": [
      "attempting to connect to athena database with connection string: awsathena+rest://:@athena.us-west-2.amazonaws.com:443/text2sql?s3_staging_dir=s3://text2sql-db/results&catalog_name=AwsDataCatalog\n",
      "connected to database successfully.\n"
     ]
    }
   ],
   "source": [
    "din_sql.athena_connect(\n",
    "    catalog_name=ATHENA_CATALOG_NAME, \n",
    "    db_name=DB_NAME, \n",
    "    s3_prefix=ATHENA_RESULTS_S3_LOCATION\n",
    ")"
   ]
  },
  {
   "cell_type": "markdown",
   "id": "4334adf7-c295-4174-a869-c63058bf6c64",
   "metadata": {},
   "source": [
    "## Step 3: 프롬프트 구성"
   ]
  },
  {
   "cell_type": "code",
   "execution_count": 21,
   "id": "95aab01c-5a1f-4a61-8a4c-1e3e54b7b613",
   "metadata": {
    "tags": []
   },
   "outputs": [
    {
     "name": "stdout",
     "output_type": "stream",
     "text": [
      "database name specified and found, inspecting only 'text2sql'\n",
      "Table album, columns = [albumid,title,artistid]\n",
      "Table artist, columns = [artistid,name]\n",
      "Table customer, columns = [customerid,firstname,lastname,company,address,city,state,country,postalcode,phone,fax,email,supportrepid]\n",
      "Table employee, columns = [employeeid,lastname,firstname,title,reportsto,birthdate,hiredate,address,city,state,country,postalcode,phone,fax,email]\n",
      "Table genre, columns = [genreid,name]\n",
      "Table invoice, columns = [invoiceid,customerid,invoicedate,billingaddress,billingcity,billingstate,billingcountry,billingpostalcode,total]\n",
      "Table invoiceline, columns = [invoicelineid,invoiceid,trackid,unitprice,quantity]\n",
      "Table mediatype, columns = [mediatypeid,name]\n",
      "Table playlist, columns = [playlistid,name]\n",
      "Table playlisttrack, columns = [playlistid,trackid]\n",
      "Table track, columns = [trackid,name,albumid,mediatypeid,genreid,composer,milliseconds,bytes,unitprice]\n",
      "\n"
     ]
    }
   ],
   "source": [
    "return_sql= din_sql.find_fields(db_name=DB_NAME)\n",
    "print(return_sql)"
   ]
  },
  {
   "cell_type": "code",
   "execution_count": 32,
   "id": "b9b9d559-2631-4ded-9fda-c24679d0b249",
   "metadata": {
    "scrolled": true,
    "tags": []
   },
   "outputs": [
    {
     "name": "stdout",
     "output_type": "stream",
     "text": [
      "<instructions>당신은 데이터 엔지니어링 전문가로, 자연스러운 질문을 받아 PySpark SQL을 사용하여 그 질문에 답할 수 있는 코드를 작성할 수 있습니다. 주어진 필드들을 사용하여 각 질문에 대한 PySpark 쿼리를 생성하세요.</instructions>\n",
      "\n",
      "<fields>\n",
      "Table album, columns = [albumid,title,artistid]\n",
      "Table artist, columns = [artistid,name]\n",
      "Table customer, columns = [customerid,firstname,lastname,company,address,city,state,country,postalcode,phone,fax,email,supportrepid]\n",
      "Table employee, columns = [employeeid,lastname,firstname,title,reportsto,birthdate,hiredate,address,city,state,country,postalcode,phone,fax,email]\n",
      "Table genre, columns = [genreid,name]\n",
      "Table invoice, columns = [invoiceid,customerid,invoicedate,billingaddress,billingcity,billingstate,billingcountry,billingpostalcode,total]\n",
      "Table invoiceline, columns = [invoicelineid,invoiceid,trackid,unitprice,quantity]\n",
      "Table mediatype, columns = [mediatypeid,name]\n",
      "Table playlist, columns = [playlistid,name]\n",
      "Table playlisttrack, columns = [playlistid,trackid]\n",
      "Table track, columns = [trackid,name,albumid,mediatypeid,genreid,composer,milliseconds,bytes,unitprice]\n",
      "\n",
      "</fields>\n",
      "\n",
      "<example>\n",
      "Q: \"Find the buildings which have rooms with capacity more than 50.\"\n",
      "Schema_links: [classroom.building,classroom.capacity,50]\n",
      "SQL: ```sqlclassroom_df.filter(F.col(\"capacity\") > 50).select(\"building\").distinct()```\n",
      "</example>\n",
      "\n",
      "<example>\n",
      "Q: \"Find the room number of the rooms which can sit 50 to 100 students and their buildings.\"\n",
      "Schema_links: [classroom.building,classroom.room_number,classroom.capacity,50,100]\n",
      "SQL: ```sqlclassroom_df.filter((F.col(\"capacity\") >= 50) & (F.col(\"capacity\") <= 100)).select(\"building\", \"room_number\")```\n",
      "</example>\n",
      "\n",
      "<example>\n",
      "Q: \"Give the name of the student in the History department with the most credits.\"\n",
      "Schema_links: [student.name,student.dept_name,student.tot_cred,History]\n",
      "SQL: ```sqlstudent_df.filter(F.col(\"dept_name\") == \"History\").orderBy(F.col(\"tot_cred\").desc()) .select(\"name\").limit(1)```\n",
      "</example>\n",
      "\n",
      "<example>\n",
      "Q: \"Find the total budgets of the Marketing or Finance department.\"\n",
      "Schema_links: [department.budget,department.dept_name,Marketing,Finance]\n",
      "SQL: ```sqldepartment_df.filter((F.col(\"dept_name\") == \"Marketing\") | (F.col(\"dept_name\") == \"Finance\")) .agg(F.sum(\"budget\").alias(\"total_budget\"))```\n",
      "</example>\n",
      "\n",
      "<example>\n",
      "Q: \"Find the department name of the instructor whose name contains 'Soisalon'.\"\n",
      "Schema_links: [instructor.dept_name,instructor.name,Soisalon]\n",
      "SQL: ```sqlinstructor_df.filter(F.col(\"name\").like(\"%Soisalon%\")).select(\"dept_name\")```\n",
      "</example>\n",
      "\n",
      "<example>\n",
      "Q: \"What is the name of the department with the most credits?\"\n",
      "Schema_links: [course.dept_name,course.credits]\n",
      "SQL: ```sqlcourse_df.groupBy(\"dept_name\").agg(F.sum(\"credits\").alias(\"total_credits\")).orderBy(F.col(\"total_credits\").desc()).select(\"dept_name\").limit(1)```\n",
      "</example>\n",
      "\n",
      "<example>\n",
      "Q: \"How many instructors teach a course in the Spring of 2010?\"\n",
      "Schema_links: [teaches.ID,teaches.semester,teaches.YEAR,Spring,2010]\n",
      "SQL: ```sqlteaches_df.filter((F.col(\"semester\") == \"Spring\") & (F.col(\"YEAR\") == 2010)).select(\"ID\").distinct().count()\n",
      "```\n",
      "</example>\n",
      "\n",
      "<example>\n",
      "Q: \"Find the name of the students and their department names sorted by their total credits in ascending order.\"\n",
      "Schema_links: [student.name,student.dept_name,student.tot_cred]\n",
      "SQL: ```sqlstudent_df.select(\"name\", \"dept_name\").orderBy(\"tot_cred\")```\n",
      "</example>\n",
      "\n",
      "<example>\n",
      "Q: \"Find the year which offers the largest number of courses.\"\n",
      "Schema_links: [SECTION.YEAR,SECTION.*]\n",
      "SQL: ```sqlsection_df.groupBy(\"YEAR\").count().orderBy(F.col(\"count\").desc()).select(\"YEAR\").limit(1)```\n",
      "</example>\n",
      "\n",
      "<example>\n",
      "Q: \"What are the names and average salaries for departments with average salary higher than 42000?\"\n",
      "Schema_links: [instructor.dept_name,instructor.salary,42000]\n",
      "SQL: ```sqlinstructor_df.groupBy(\"dept_name\").agg(F.avg(\"salary\").alias(\"avg_salary\")).filter(F.col(\"avg_salary\") > 42000).select(\"dept_name\", \"avg_salary\")```\n",
      "</example>\n",
      "\n",
      "<example>\n",
      "Q: \"How many rooms in each building have a capacity of over 50?\"\n",
      "Schema_links: [classroom.*,classroom.building,classroom.capacity,50]\n",
      "SQL: ```sqlclassroom_df.filter(F.col(\"capacity\") > 50).groupBy(\"building\").count()```\n",
      "</example>\n",
      "\n",
      "<example>\n",
      "Q: \"Find the maximum and average capacity among rooms in each building.\"\n",
      "Schema_links: [classroom.building,classroom.capacity]\n",
      "SQL: ```sqlclassroom_df.groupBy(\"building\").agg(F.max(\"capacity\").alias(\"max_capacity\"),F.avg(\"capacity\").alias(\"avg_capacity\"))```\n",
      "</example>\n",
      "\n",
      "<example>\n",
      "Q: \"Find the title of the course that is offered by more than one department.\"\n",
      "Schema_links: [course.title]\n",
      "SQL: ```sqlcourse_df.groupBy(\"title\").count().filter(F.col(\"count\") > 1).select(\"title\")```\n",
      "</example>\n",
      "\n",
      "<example>\n",
      "Q: \"Which customer spent the most money in the web store?\"\n"
     ]
    }
   ],
   "source": [
    "import os\n",
    "import os\n",
    "import jinja2 as j\n",
    "\n",
    "question = \"Which customer spent the most money in the web store?\"\n",
    "\n",
    "instructions_tag_start = '<instructions>'\n",
    "instructions_tag_end = '</instructions>'\n",
    "example_tag_start = '<example>'\n",
    "example_tag_end = '</example>'\n",
    "sql_tag_start = '```sql'\n",
    "sql_tag_end = '```'\n",
    "\n",
    "template_dir = \"../libs/din_sql/prompt_templates\"\n",
    "\n",
    "template_file = os.path.join(template_dir, 'basic_prompt_pyspark.txt.jinja')\n",
    "if not os.path.isfile(template_file):\n",
    "    raise FileNotFoundError(f\"Template file '{template_file}' not found\")\n",
    "\n",
    "JINJA_ENV = j.Environment(\n",
    "    loader=j.FileSystemLoader(template_dir),\n",
    "    autoescape=j.select_autoescape(\n",
    "        enabled_extensions=('jinja'),\n",
    "        default_for_string=True,\n",
    "    )\n",
    ")\n",
    "\n",
    "easy_prompt = JINJA_ENV.get_template('basic_prompt_pyspark.txt.jinja')\n",
    "prompt = easy_prompt.render(\n",
    "    instruction_tag_start=instructions_tag_start,\n",
    "    instruction_tag_end=instructions_tag_end,\n",
    "    fields=return_sql,\n",
    "    example_tag_start=example_tag_start,\n",
    "    example_tag_end=example_tag_end,\n",
    "    test_sample_text=question,\n",
    "    sql_tag_start=sql_tag_start,\n",
    "    sql_tag_end=sql_tag_end\n",
    ")\n",
    "print(prompt)"
   ]
  },
  {
   "cell_type": "markdown",
   "id": "0ba5190e-9175-45c9-9e60-77dc2bce1536",
   "metadata": {},
   "source": [
    "## Step 4: LLM을 사용해 쿼리 생성"
   ]
  },
  {
   "cell_type": "code",
   "execution_count": 33,
   "id": "938cd9e4-17cd-4df0-9fd6-f61c4b4e01ee",
   "metadata": {
    "tags": []
   },
   "outputs": [],
   "source": [
    "import json\n",
    "import boto3\n",
    "\n",
    "bedrock_client = boto3.client(service_name='bedrock-runtime')\n",
    "\n",
    "def llm_generation(prompt, stop_sequences=[], word_in_mouth=None):\n",
    "    user_message =  {\"role\": \"user\", \"content\": prompt}\n",
    "    messages = [user_message]\n",
    "    if word_in_mouth:\n",
    "        messages.append({\n",
    "            \"role\": \"assistant\",\n",
    "            \"content\": word_in_mouth,\n",
    "        })\n",
    "    response = bedrock_client.invoke_model(\n",
    "        modelId=model_id,\n",
    "        body=json.dumps({\n",
    "            \"anthropic_version\": \"bedrock-2023-05-31\",\n",
    "            \"messages\": messages,\n",
    "            \"temperature\": 0,\n",
    "            \"max_tokens\": 8000,\n",
    "            \"stop_sequences\": stop_sequences,\n",
    "            })\n",
    "    )\n",
    "    response_dict = json.loads(response.get('body').read().decode(\"utf-8\"))\n",
    "    results = response_dict[\"content\"][0][\"text\"]\n",
    "    return results\n",
    "\n",
    "sql_qry = llm_generation(prompt)"
   ]
  },
  {
   "cell_type": "code",
   "execution_count": 34,
   "id": "b58102c8-2534-4547-92e4-926c388179f9",
   "metadata": {
    "tags": []
   },
   "outputs": [],
   "source": [
    "from pprint import pprint"
   ]
  },
  {
   "cell_type": "code",
   "execution_count": 35,
   "id": "af266725-42be-4eac-9527-8339d88dfd49",
   "metadata": {
    "tags": []
   },
   "outputs": [
    {
     "name": "stdout",
     "output_type": "stream",
     "text": [
      "('이 질문에 답하기 위해서는 invoice와 customer 테이블을 조인하고, 각 고객별 총 지출액을 계산한 후 가장 높은 금액을 지출한 '\n",
      " '고객을 찾아야 합니다.\\n'\n",
      " '\\n'\n",
      " '```sql\\n'\n",
      " '(invoice_df\\n'\n",
      " ' .join(customer_df, \"customerid\")\\n'\n",
      " ' .groupBy(\"customerid\", \"firstname\", \"lastname\")\\n'\n",
      " ' .agg(F.sum(\"total\").alias(\"total_spent\"))\\n'\n",
      " ' .orderBy(F.col(\"total_spent\").desc())\\n'\n",
      " ' .select(\"firstname\", \"lastname\", \"total_spent\")\\n'\n",
      " ' .limit(1))\\n'\n",
      " '```\\n'\n",
      " '\\n'\n",
      " '이 쿼리는 다음과 같은 작업을 수행합니다:\\n'\n",
      " '1. invoice와 customer 테이블을 customerid로 조인\\n'\n",
      " '2. 고객별로 그룹화하여 총 지출액(total) 합계 계산\\n'\n",
      " '3. 총 지출액을 기준으로 내림차순 정렬\\n'\n",
      " '4. 고객의 이름과 총 지출액만 선택\\n'\n",
      " '5. 가장 많이 지출한 1명의 고객만 표시')\n"
     ]
    }
   ],
   "source": [
    "pprint (sql_qry)"
   ]
  },
  {
   "cell_type": "code",
   "execution_count": 36,
   "id": "9fc30fb8-00d1-45cc-86d6-24155a858492",
   "metadata": {
    "tags": []
   },
   "outputs": [
    {
     "name": "stdout",
     "output_type": "stream",
     "text": [
      "(invoice_df\n",
      " .join(customer_df, \"customerid\")\n",
      " .groupBy(\"customerid\", \"firstname\", \"lastname\")\n",
      " .agg(F.sum(\"total\").alias(\"total_spent\"))\n",
      " .orderBy(F.col(\"total_spent\").desc())\n",
      " .select(\"firstname\", \"lastname\", \"total_spent\")\n",
      " .limit(1))\n"
     ]
    }
   ],
   "source": [
    "SQL = sql_qry.split('```sql')[1].split('```')[0].strip()\n",
    "print(f\"{SQL}\")"
   ]
  }
 ],
 "metadata": {
  "kernelspec": {
   "display_name": "conda_python3",
   "language": "python",
   "name": "conda_python3"
  },
  "language_info": {
   "codemirror_mode": {
    "name": "ipython",
    "version": 3
   },
   "file_extension": ".py",
   "mimetype": "text/x-python",
   "name": "python",
   "nbconvert_exporter": "python",
   "pygments_lexer": "ipython3",
   "version": "3.10.15"
  }
 },
 "nbformat": 4,
 "nbformat_minor": 5
}
