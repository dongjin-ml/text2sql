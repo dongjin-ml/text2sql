{
 "cells": [
  {
   "cell_type": "markdown",
   "id": "6da7eaba-0251-48d7-87cd-d9980104b836",
   "metadata": {},
   "source": [
    "# Lab. 3-1 Schema Preparation-1\n",
    "\n",
    "이 노트북에서는 아래 그림의 1 / 3 과정을 수행합니다. (2는 불필요하여 생략합니다)\n",
    "\n",
    "복잡한 데이터베이스에서 Text2SQL의 가장 어려운 작업은 쿼리 생성에 필요한 스키마를 선별하는 과정, 즉 Schema Linking 입니다.\n",
    "\n",
    "Lab1 / Lab2에서는 Text2SQL을 구현할 수 있는 워크플로 구성에 대해 알아보면서, 스키마 정보는 DB에 직접 테이블 목록과 컬럼 목록을 조회하는 것으로 간소화했습니다.\n",
    "하지만, 현실의 기업 환경에서는 테이블/컬럼 이름이 의미를 축약하고 있어서 LLM이 이를 파악하기 힘들거나, 테이블/컬럼이 너무 많아서 모든 목록을 프롬프트에 담아 전달하는 것이 불가능한 경우가 많습니다.\n",
    "\n",
    "이를 해결하기 위해, 우리 DB에 맞춰 스키마 설명 문서를 정제하고, LLM에 필요한 컨텍스트를 선별하여 제공하는 작업이 필요합니다. 이 노트북에서는 스키마 준비 과정을 시뮬레이션 하기 위해, Chinook DB 설명 문서를 활용하겠습니다. 전체 작업 흐름은 아래와 같이 이어갈 예정입니다.\n",
    "\n",
    "![Intro](../images/text2sql/schema-prep-1.png)\n"
   ]
  },
  {
   "cell_type": "markdown",
   "id": "11fa1a10-2fa1-4383-8838-3186b39815e8",
   "metadata": {},
   "source": [
    "## Step 0: OpenSearch 환경 설정"
   ]
  },
  {
   "cell_type": "code",
   "execution_count": null,
   "id": "801cb0f5-8055-442d-814b-9a0cea8b9020",
   "metadata": {
    "tags": []
   },
   "outputs": [],
   "source": [
    "!pip install -U opensearch-py langchain_aws langchain_community"
   ]
  },
  {
   "cell_type": "code",
   "execution_count": 1,
   "id": "fab1c499-18e0-4fd7-a2d8-e89bb9b4e012",
   "metadata": {
    "tags": []
   },
   "outputs": [
    {
     "name": "stdout",
     "output_type": "stream",
     "text": [
      "https://https://search-rag-hol-dd83d239-7d7grd76dlrradrrky6v7adnii.us-west-2.es.amazonaws.com\n"
     ]
    }
   ],
   "source": [
    "from libs.ssm import parameter_store\n",
    "pm = parameter_store('us-west-2')\n",
    "domain_endpoint = pm.get_params(key=\"opensearch_domain_endpoint\", enc=False)\n",
    "opensearch_domain_endpoint = f\"https://{domain_endpoint}\"\n",
    "opensearch_user_id = pm.get_params(key=\"opensearch_user_id\", enc=False)\n",
    "opensearch_user_password = pm.get_params(key=\"opensearch_user_password\", enc=True)\n",
    "print(opensearch_domain_endpoint)"
   ]
  },
  {
   "cell_type": "markdown",
   "id": "385871de-60f4-4930-9ebb-a42f43985283",
   "metadata": {},
   "source": [
    "## Step 1: Schema Description 문서 로드 (위 그림의 `1. Schema Loader`)\n",
    "\n",
    "각 기업에는 Excel / CSV 등으로 스키마 설명 문서가 정의되어 있을 수 있습니다. 이를 Parsing하여 아래의 Schema Description 포맷으로 변경한다고 가정하겠습니다.\n",
    "\n",
    "```\n",
    "{\n",
    "    \"table_name\": {\n",
    "        \"table_desc\": \"Description of the table\",\n",
    "        \"cols\": [\n",
    "            {\n",
    "                \"col\": \"Column Name 1\",\n",
    "                \"col_desc\": \"Description of the column including PK info\"\n",
    "            },\n",
    "            {\n",
    "                \"col\": \"Column Name 2\",\n",
    "                \"col_desc\": \"Description of the column\"\n",
    "            }\n",
    "        ]\n",
    "    }\n",
    "}\n",
    "```\n",
    "\n",
    "초기 설명 문서에는 테이블의 이름과 테이블에 대한 기본 설명, 컬럼 이름과 컬럼에 대한 설명이 포함되어야 합니다. 기업에 잘 정리된 스키마 설명 문서가 없다면, 아주 기본적인 정보만 제공하고 LLM이 이를 증강하여 초기 설명문서 자체를 생성하도록 할 수도 있습니다. 이를 위한 LLM 호출 스크립트는 다음 [링크](https://github.com/kevmyung/db-schema-loader/blob/main/schema_loader.py)를 참고합니다."
   ]
  },
  {
   "cell_type": "code",
   "execution_count": 2,
   "id": "835783d0-5bc3-4bbd-bd16-9cf672270fbf",
   "metadata": {
    "scrolled": true,
    "tags": []
   },
   "outputs": [
    {
     "name": "stdout",
     "output_type": "stream",
     "text": [
      "[\n",
      "    {\n",
      "        \"Album\": {\n",
      "            \"table_desc\": \"Stores album data with unique ID, title, and links to artist via artist ID.\",\n",
      "            \"cols\": [\n",
      "                {\n",
      "                    \"col\": \"AlbumId\",\n",
      "                    \"col_desc\": \"Primary key, unique identifier for the album.\"\n",
      "                },\n",
      "                {\n",
      "                    \"col\": \"Title\",\n",
      "                    \"col_desc\": \"Title of the album.\"\n",
      "                },\n",
      "                {\n",
      "                    \"col\": \"ArtistId\",\n",
      "                    \"col_desc\": \"Foreign key that references the artist of the album.\"\n",
      "                }\n",
      "            ]\n",
      "        },\n",
      "        \"Artist\": {\n",
      "            \"table_desc\": \"Holds artist information with an ID and name.\",\n",
      "            \"cols\": [\n",
      "                {\n",
      "                    \"col\": \"ArtistId\",\n",
      "                    \"col_desc\": \"Primary key, unique identifier for the artist.\"\n",
      "                },\n",
      "                {\n",
      "                    \"col\": \"Name\",\n",
      "                    \"col_desc\": \"Name of the artist.\"\n",
      "                }\n",
      "            ]\n",
      "        },\n",
      "        \"Customer\": {\n",
      "            \"table_desc\": \"Contains customer details and links to their support representative.\",\n",
      "            \"cols\": [\n",
      "                {\n",
      "                    \"col\": \"CustomerId\",\n",
      "                    \"col_desc\": \"Primary key, unique customer identifier.\"\n",
      "                },\n",
      "                {\n",
      "                    \"col\": \"FirstName\",\n",
      "                    \"col_desc\": \"First name of the customer.\"\n",
      "                },\n",
      "                {\n",
      "                    \"col\": \"LastName\",\n",
      "                    \"col_desc\": \"Last name of the customer.\"\n",
      "                },\n",
      "                {\n",
      "                    \"col\": \"Company\",\n",
      "                    \"col_desc\": \"Company of the customer.\"\n",
      "                },\n",
      "                {\n",
      "                    \"col\": \"Address\",\n",
      "                    \"col_desc\": \"Address of the customer.\"\n",
      "                },\n",
      "                {\n",
      "                    \"col\": \"City\",\n",
      "                    \"col_desc\": \"City of the customer.\"\n",
      "                },\n",
      "                {\n",
      "                    \"col\": \"State\",\n",
      "                    \"col_desc\": \"State of the customer.\"\n",
      "                },\n",
      "                {\n",
      "                    \"col\": \"Country\",\n",
      "                    \"col_desc\": \"Country of the customer.\"\n",
      "                },\n",
      "                {\n",
      "                    \"col\": \"PostalCode\",\n",
      "                    \"col_desc\": \"Postal code of the customer.\"\n",
      "                },\n",
      "                {\n",
      "                    \"col\": \"Phone\",\n",
      "                    \"col_desc\": \"Phone number of the customer.\"\n",
      "                },\n",
      "                {\n",
      "                    \"col\": \"Fax\",\n",
      "                    \"col_desc\": \"Fax number of the customer.\"\n",
      "                },\n",
      "                {\n",
      "                    \"col\": \"Email\",\n",
      "                    \"col_desc\": \"Email address of the customer.\"\n",
      "                },\n",
      "                {\n",
      "                    \"col\": \"SupportRepId\",\n",
      "                    \"col_desc\": \"Foreign key that references the employee who supports this customer.\"\n",
      "                }\n",
      "            ]\n",
      "        },\n",
      "        \"Employee\": {\n",
      "            \"table_desc\": \"Stores employee details, including their supervisory chain.\",\n",
      "            \"cols\": [\n",
      "                {\n",
      "                    \"col\": \"EmployeeId\",\n",
      "                    \"col_desc\": \"Primary key, unique identifier for the employee.\"\n",
      "                },\n",
      "                {\n",
      "                    \"col\": \"LastName\",\n",
      "                    \"col_desc\": \"Last name of the employee.\"\n",
      "                },\n",
      "                {\n",
      "                    \"col\": \"FirstName\",\n",
      "                    \"col_desc\": \"First name of the employee.\"\n",
      "                },\n",
      "                {\n",
      "                    \"col\": \"Title\",\n",
      "                    \"col_desc\": \"Job title of the employee.\"\n",
      "                },\n",
      "                {\n",
      "                    \"col\": \"ReportsTo\",\n",
      "                    \"col_desc\": \"Foreign key that references the supervisor of the employee.\"\n",
      "                },\n",
      "                {\n",
      "                    \"col\": \"BirthDate\",\n",
      "                    \"col_desc\": \"Birth date of the employee.\"\n",
      "                },\n",
      "                {\n",
      "                    \"col\": \"HireDate\",\n",
      "                    \"col_desc\": \"Hire date of the employee.\"\n",
      "                },\n",
      "                {\n",
      "                    \"col\": \"Address\",\n",
      "                    \"col_desc\": \"Address of the employee.\"\n",
      "                },\n",
      "                {\n",
      "                    \"col\": \"City\",\n",
      "                    \"col_desc\": \"City of the employee.\"\n",
      "                },\n",
      "                {\n",
      "                    \"col\": \"State\",\n",
      "                    \"col_desc\": \"State of the employee.\"\n",
      "                },\n",
      "                {\n",
      "                    \"col\": \"Country\",\n",
      "                    \"col_desc\": \"Country of the employee.\"\n",
      "                },\n",
      "                {\n",
      "                    \"col\": \"PostalCode\",\n",
      "                    \"col_desc\": \"Postal code of the employee.\"\n",
      "                },\n",
      "                {\n",
      "                    \"col\": \"Phone\",\n",
      "                    \"col_desc\": \"Phone number of the employee.\"\n",
      "                },\n",
      "                {\n",
      "                    \"col\": \"Fax\",\n",
      "                    \"col_desc\": \"Fax number of the employee.\"\n",
      "                },\n",
      "                {\n",
      "                    \"col\": \"Email\",\n",
      "                    \"col_desc\": \"Email address of the employee.\"\n",
      "                }\n",
      "            ]\n",
      "        },\n",
      "        \"Genre\": {\n",
      "            \"table_desc\": \"Catalogs music genres with a unique identifier and name.\",\n",
      "            \"cols\": [\n",
      "                {\n",
      "                    \"col\": \"GenreId\",\n",
      "                    \"col_desc\": \"Primary key, unique identifier for the genre.\"\n",
      "                },\n",
      "                {\n",
      "                    \"col\": \"Name\",\n",
      "                    \"col_desc\": \"Name of the genre.\"\n",
      "                }\n",
      "            ]\n",
      "        },\n",
      "        \"Invoice\": {\n",
      "            \"table_desc\": \"Records details of transactions, linked to customers.\",\n",
      "            \"cols\": [\n",
      "                {\n",
      "                    \"col\": \"InvoiceId\",\n",
      "                    \"col_desc\": \"Primary key, unique identifier for the invoice.\"\n",
      "                },\n",
      "                {\n",
      "                    \"col\": \"CustomerId\",\n",
      "                    \"col_desc\": \"Foreign key that references the customer associated with this invoice.\"\n",
      "                },\n",
      "                {\n",
      "                    \"col\": \"InvoiceDate\",\n",
      "                    \"col_desc\": \"Date when the invoice was issued.\"\n",
      "                },\n",
      "                {\n",
      "                    \"col\": \"BillingAddress\",\n",
      "                    \"col_desc\": \"Billing address on the invoice.\"\n",
      "                },\n",
      "                {\n",
      "                    \"col\": \"BillingCity\",\n",
      "                    \"col_desc\": \"Billing city on the invoice.\"\n",
      "                },\n",
      "                {\n",
      "                    \"col\": \"BillingState\",\n",
      "                    \"col_desc\": \"Billing state on the invoice.\"\n",
      "                },\n",
      "                {\n",
      "                    \"col\": \"BillingCountry\",\n",
      "                    \"col_desc\": \"Billing country on the invoice.\"\n",
      "                },\n",
      "                {\n",
      "                    \"col\": \"BillingPostalCode\",\n",
      "                    \"col_desc\": \"Billing postal code on the invoice.\"\n",
      "                },\n",
      "                {\n",
      "                    \"col\": \"Total\",\n",
      "                    \"col_desc\": \"Total amount of the invoice.\"\n",
      "                }\n",
      "            ]\n",
      "        },\n",
      "        \"InvoiceLine\": {\n",
      "            \"table_desc\": \"Details each line item on an invoice, linked to tracks and invoices.\",\n",
      "            \"cols\": [\n",
      "                {\n",
      "                    \"col\": \"InvoiceLineId\",\n",
      "                    \"col_desc\": \"Primary key, unique identifier for the invoice line.\"\n",
      "                },\n",
      "                {\n",
      "                    \"col\": \"InvoiceId\",\n",
      "                    \"col_desc\": \"Foreign key that references the associated invoice.\"\n",
      "                },\n",
      "                {\n",
      "                    \"col\": \"TrackId\",\n",
      "                    \"col_desc\": \"Foreign key that references the track sold in this invoice line.\"\n",
      "                },\n",
      "                {\n",
      "                    \"col\": \"UnitPrice\",\n",
      "                    \"col_desc\": \"Price per unit of the track.\"\n",
      "                },\n",
      "                {\n",
      "                    \"col\": \"Quantity\",\n",
      "                    \"col_desc\": \"Quantity of the track sold in this invoice line.\"\n",
      "                }\n",
      "            ]\n",
      "        },\n",
      "        \"MediaType\": {\n",
      "            \"table_desc\": \"Defines types of media for tracks.\",\n",
      "            \"cols\": [\n",
      "                {\n",
      "                    \"col\": \"MediaTypeId\",\n",
      "                    \"col_desc\": \"Primary key, unique identifier for the media type.\"\n",
      "                },\n",
      "                {\n",
      "                    \"col\": \"Name\",\n",
      "                    \"col_desc\": \"Name of the media type.\"\n",
      "                }\n",
      "            ]\n",
      "        },\n",
      "        \"Playlist\": {\n",
      "            \"table_desc\": \"Organizes tracks into playlists.\",\n",
      "            \"cols\": [\n",
      "                {\n",
      "                    \"col\": \"PlaylistId\",\n",
      "                    \"col_desc\": \"Primary key, unique identifier for the playlist.\"\n",
      "                },\n",
      "                {\n",
      "                    \"col\": \"Name\",\n",
      "                    \"col_desc\": \"Name of the playlist.\"\n",
      "                }\n",
      "            ]\n",
      "        },\n",
      "        \"PlaylistTrack\": {\n",
      "            \"table_desc\": \"Links tracks to playlists.\",\n",
      "            \"cols\": [\n",
      "                {\n",
      "                    \"col\": \"PlaylistId\",\n",
      "                    \"col_desc\": \"Foreign key that identifies the playlist.\"\n",
      "                },\n",
      "                {\n",
      "                    \"col\": \"TrackId\",\n",
      "                    \"col_desc\": \"Foreign key that identifies the track on the playlist.\"\n",
      "                }\n",
      "            ]\n",
      "        },\n",
      "        \"Track\": {\n",
      "            \"table_desc\": \"Stores detailed information about music tracks, linked to albums, genres, and media types.\",\n",
      "            \"cols\": [\n",
      "                {\n",
      "                    \"col\": \"TrackId\",\n",
      "                    \"col_desc\": \"Primary key, unique identifier for the track.\"\n",
      "                },\n",
      "                {\n",
      "                    \"col\": \"Name\",\n",
      "                    \"col_desc\": \"Name of the track.\"\n",
      "                },\n",
      "                {\n",
      "                    \"col\": \"AlbumId\",\n",
      "                    \"col_desc\": \"Foreign key that references the album containing this track.\"\n",
      "                },\n",
      "                {\n",
      "                    \"col\": \"MediaTypeId\",\n",
      "                    \"col_desc\": \"Foreign key that references the type of media for this track.\"\n",
      "                },\n",
      "                {\n",
      "                    \"col\": \"GenreId\",\n",
      "                    \"col_desc\": \"Optional foreign key that references the genre of this track.\"\n",
      "                },\n",
      "                {\n",
      "                    \"col\": \"Composer\",\n",
      "                    \"col_desc\": \"Composer of the track.\"\n",
      "                },\n",
      "                {\n",
      "                    \"col\": \"Milliseconds\",\n",
      "                    \"col_desc\": \"Duration of the track in milliseconds.\"\n",
      "                },\n",
      "                {\n",
      "                    \"col\": \"Bytes\",\n",
      "                    \"col_desc\": \"Size of the track file in bytes.\"\n",
      "                },\n",
      "                {\n",
      "                    \"col\": \"UnitPrice\",\n",
      "                    \"col_desc\": \"Price per unit of this track.\"\n",
      "                }\n",
      "            ]\n",
      "        }\n",
      "    }\n",
      "]\n"
     ]
    }
   ],
   "source": [
    "import json\n",
    "\n",
    "file_path = './chinook_schema.json'\n",
    "\n",
    "with open(file_path, 'r') as file:\n",
    "    schema_description = json.load(file)\n",
    "\n",
    "print(json.dumps(schema_description, indent=4))"
   ]
  },
  {
   "cell_type": "markdown",
   "id": "f197834e-7ee3-4eb4-9398-d2e0d5789d53",
   "metadata": {},
   "source": [
    "### 이제 Schema Description 문서를 활용해 후속 작업을 이어가겠습니다"
   ]
  },
  {
   "cell_type": "markdown",
   "id": "4ca849b4-8126-4c9d-bafa-af3e7543fa44",
   "metadata": {},
   "source": [
    "## Step 2: SQL2Text 샘플 쿼리 변환 (위 그림의 `2. Query Translator`)\n",
    "\n",
    "Lab 1 / Lab 2에서 언급했듯이, 좋은 샘플 쿼리를 LLM에게 제공하는 것은 쿼리 작성 뿐만 아니라 Schema Linking에도 도움이 됩니다.\n",
    "\n",
    "그러나, 대부분의 기업 환경에서 자주 사용되는 쿼리를 로그로 관리하고 있는 반면, (기존에 Text2SQL을 사용하지 않았기 때문에) 쿼리에 매칭되는 자연어 질문은 없습니다. \n",
    "\n",
    "Step 2에서는 자주 사용하는 쿼리들을 자연어 질문으로 변환하는 SQL2Text 과정을 진행합니다."
   ]
  },
  {
   "cell_type": "code",
   "execution_count": 4,
   "id": "1e40dcac-1073-4a4f-9c68-46944c2ce5d1",
   "metadata": {
    "tags": []
   },
   "outputs": [
    {
     "name": "stdout",
     "output_type": "stream",
     "text": [
      "Query 1:\n",
      "SELECT * FROM Artist\n",
      "--------------------------------------------------------------------------------\n",
      "\n",
      "Query 2:\n",
      "SELECT * FROM Album WHERE ArtistId = (SELECT ArtistId FROM Artist WHERE Name = 'AC/DC')\n",
      "--------------------------------------------------------------------------------\n",
      "\n",
      "Query 3:\n",
      "SELECT * FROM Track WHERE GenreId = (SELECT GenreId FROM Genre WHERE Name = 'Rock')\n",
      "--------------------------------------------------------------------------------\n",
      "\n",
      "Query 4:\n",
      "SELECT SUM(Milliseconds) FROM Track\n",
      "--------------------------------------------------------------------------------\n",
      "\n",
      "Query 5:\n",
      "SELECT * FROM Customer WHERE Country = 'Canada'\n",
      "--------------------------------------------------------------------------------\n",
      "\n",
      "Query 6:\n",
      "SELECT COUNT(*) FROM Track WHERE AlbumId = 5\n",
      "--------------------------------------------------------------------------------\n",
      "\n",
      "Query 7:\n",
      "SELECT COUNT(*) FROM Invoice\n",
      "--------------------------------------------------------------------------------\n",
      "\n",
      "Query 8:\n",
      "SELECT * FROM Track WHERE Milliseconds > 300000\n",
      "--------------------------------------------------------------------------------\n",
      "\n",
      "Query 9:\n",
      "SELECT CustomerId, SUM(Total) AS TotalPurchase FROM Invoice GROUP BY CustomerId ORDER BY TotalPurchase DESC LIMIT 5\n",
      "--------------------------------------------------------------------------------\n",
      "\n",
      "Query 10:\n",
      "SELECT COUNT(*) FROM Employee\n",
      "--------------------------------------------------------------------------------\n",
      "\n"
     ]
    }
   ],
   "source": [
    "sql_file = './chinook_sample_queries.sql'\n",
    "\n",
    "with open(sql_file, 'r') as file:\n",
    "    data = file.read()\n",
    "\n",
    "queries = [query.strip() for query in data.split(';') if query.strip()]\n",
    "\n",
    "for i, query in enumerate(queries, start=1):\n",
    "    print(f\"Query {i}:\\n{query}\\n{'-'*80}\\n\")"
   ]
  },
  {
   "cell_type": "markdown",
   "id": "02e58b4f-0b52-4eb1-9d8b-6121cf561aca",
   "metadata": {},
   "source": [
    "쿼리를 해석하기 위해, 각 쿼리에 사용된 테이블/컬럼의 의미를 파악해야 합니다.\n",
    "따라서, 각 쿼리에 사용된 테이블/컬럼 정보를 아래와 같이 추출합니다.\n",
    "```\n",
    "{\n",
    "  \"table\": [\"table1\", \"table2\", ...],\n",
    "  \"column\": [\"col1\", \"col2\", ...]\n",
    "}\n",
    "```\n",
    "다음은 SQL 쿼리에 활용된 스키마 목록을 추출하는 LLM 요청 구문입니다."
   ]
  },
  {
   "cell_type": "code",
   "execution_count": 5,
   "id": "c44c68a7-3c2c-402f-8a57-657d1e160251",
   "metadata": {
    "tags": []
   },
   "outputs": [],
   "source": [
    "SYS_PROMPT_TEMPLATE1 = \"\"\" \n",
    "You are an expert in extracting table names and column names from SQL queries. \n",
    "From the provided SQL query, extract all table names and column names used for SELECT, WHERE, and JOIN clauses, excluding asterisks (\"*\"). \n",
    "Ensure that the response is in a valid JSON format that can be used directly with json.load(). \n",
    "Skip the preamble and only provide the answer in a JSON document:\n",
    "\n",
    "{\n",
    "  \"table\": [\"table1\", \"table2\", ...],\n",
    "  \"column\": [\"col1\", \"col2\", ...]\n",
    "}\n",
    "\n",
    "<example>\n",
    "SQL:\n",
    "SELECT * from LOGIS_ADMIN.IAWD_TB_DCBSCD_BASISLC_M \n",
    "where basis_lclsf_cd_nm like '%예약구분%'\n",
    "LIMIT 200;\n",
    "\n",
    "{\n",
    "  \"table\": [\"IAWD_TB_DCBSCD_BASISLC_M\"],\n",
    "  \"column\": [\"basis_lclsf_cd_nm\"]\n",
    "}\n",
    "</example>\n",
    "\"\"\"\n",
    "\n",
    "USR_PROMPT_TEMPLATE1=\"\"\"\n",
    "SQL: {sql}\n",
    "\"\"\""
   ]
  },
  {
   "cell_type": "code",
   "execution_count": 6,
   "id": "4c230b58-f709-4a7f-a5d9-78c6f7685021",
   "metadata": {
    "tags": []
   },
   "outputs": [],
   "source": [
    "from langchain_aws import ChatBedrock\n",
    "from langchain_core.prompts.chat import ChatPromptTemplate\n",
    "from langchain_core.output_parsers import StrOutputParser"
   ]
  },
  {
   "cell_type": "code",
   "execution_count": 7,
   "id": "436d16f5-4d08-4f02-843f-dc487c620384",
   "metadata": {
    "tags": []
   },
   "outputs": [],
   "source": [
    "model_kwargs =  { \n",
    "    \"max_tokens\": 200000,\n",
    "    \"temperature\": 0.0,\n",
    "    \"top_k\": 250,\n",
    "    \"top_p\": 1\n",
    "}"
   ]
  },
  {
   "cell_type": "code",
   "execution_count": 8,
   "id": "466e905d-67be-44ec-85e0-0adce0a082a6",
   "metadata": {
    "tags": []
   },
   "outputs": [],
   "source": [
    "model_kwargs[\"system\"] = SYS_PROMPT_TEMPLATE1\n",
    "model1 = ChatBedrock(model_id=\"us.anthropic.claude-3-5-sonnet-20241022-v2:0\", region_name='us-west-2', model_kwargs=model_kwargs)\n",
    "prompt1 = ChatPromptTemplate.from_template(USR_PROMPT_TEMPLATE1)\n",
    "\n",
    "chain1 = prompt1 | model1 | StrOutputParser()"
   ]
  },
  {
   "cell_type": "markdown",
   "id": "592db742-3638-4e33-93ea-2a9c31612142",
   "metadata": {},
   "source": [
    "예를 들어 아래 쿼리에 사용된 스키마를 추출해보겠습니다.\n",
    "\n",
    "```SELECT CustomerId, SUM(Total) AS TotalPurchase FROM Invoice GROUP BY CustomerId ORDER BY TotalPurchase DESC LIMIT 5``` "
   ]
  },
  {
   "cell_type": "code",
   "execution_count": 9,
   "id": "f6e114e6-c10e-48a7-a85d-c073df3d39c5",
   "metadata": {
    "tags": []
   },
   "outputs": [
    {
     "name": "stdout",
     "output_type": "stream",
     "text": [
      "{'table': ['Invoice'], 'column': ['CustomerId', 'Total']}\n"
     ]
    }
   ],
   "source": [
    "sql = queries[8].strip()\n",
    "response = chain1.invoke({\"sql\": sql})\n",
    "used_schema = json.loads(response)\n",
    "print(used_schema)"
   ]
  },
  {
   "cell_type": "markdown",
   "id": "38d2a722-bba8-4043-b627-8b48c0a45cfd",
   "metadata": {},
   "source": [
    "#### 이제 이 쿼리에 사용된 스키마 설명을 조회합니다."
   ]
  },
  {
   "cell_type": "code",
   "execution_count": 10,
   "id": "17816589-1b10-4200-844e-6d76f932c244",
   "metadata": {
    "tags": []
   },
   "outputs": [],
   "source": [
    "def extract_descriptions(table_info, tables, columns):\n",
    "    tables_lower = {table.lower() for table in tables}\n",
    "    columns_lower = {column.lower() for column in columns}\n",
    "    \n",
    "    description = {\n",
    "        \"table\": {},\n",
    "        \"column\": {}\n",
    "    }\n",
    "    \n",
    "    for table_schema in table_info:\n",
    "        for table_name, table_info in table_schema.items():\n",
    "            if table_name.lower() in tables_lower:\n",
    "                description[\"table\"][table_name] = table_info[\"table_desc\"]\n",
    "                for col in table_info[\"cols\"]:\n",
    "                    col_name = col[\"col\"]\n",
    "                    if col_name.lower() in columns_lower:\n",
    "                        description[\"column\"][col_name] = col[\"col_desc\"]\n",
    "    return description"
   ]
  },
  {
   "cell_type": "code",
   "execution_count": 11,
   "id": "052c9d03-949a-45b7-9b0d-3de07601961c",
   "metadata": {
    "tags": []
   },
   "outputs": [
    {
     "name": "stdout",
     "output_type": "stream",
     "text": [
      "{'table': {'Invoice': 'Records details of transactions, linked to customers.'}, 'column': {'CustomerId': 'Foreign key that references the customer associated with this invoice.', 'Total': 'Total amount of the invoice.'}}\n"
     ]
    }
   ],
   "source": [
    "extracted_description = extract_descriptions(schema_description, used_schema['table'], used_schema['column'])\n",
    "print(extracted_description)"
   ]
  },
  {
   "cell_type": "markdown",
   "id": "6c35df41-ac97-4ba0-961e-39e76e611549",
   "metadata": {},
   "source": [
    "#### 이제 쿼리에 대한 자연어 변환을 요청합니다."
   ]
  },
  {
   "cell_type": "code",
   "execution_count": 12,
   "id": "b9311aae-7d37-46f7-846b-8389369adbd1",
   "metadata": {
    "tags": []
   },
   "outputs": [],
   "source": [
    "SYS_PROMPT_TEMPLATE2 = \"\"\" \n",
    "You are an SQL expert who can understand the intent behind a given SQL query. \n",
    "Translate the SQL query into a natural language request in Korean that a real user might make. \n",
    "\n",
    "- Keep your translation concise and conversational, mimicking how an actual user would ask for the information sought by the query. \n",
    "- Do not reference the <description> section directly and do not use a question form. \n",
    "- Ensure to include all conditions specified in the SQL query in the request.\n",
    "- Write possible business and functional purposes of the query.\n",
    "- Write very detailed purposes and motives of the query in detail.\n",
    "- Skip the preamble and phrase only the natural language request using a concise and straightforward tone without a verb ending. \n",
    "\"\"\"\n",
    "\n",
    "USR_PROMPT_TEMPLATE2=\"\"\"\n",
    "<description>\n",
    "{description}\n",
    "</description>\n",
    "\n",
    "SQL: {sql}\n",
    "\"\"\""
   ]
  },
  {
   "cell_type": "code",
   "execution_count": 13,
   "id": "b733a116-4d58-4543-86fe-d34858c8199f",
   "metadata": {
    "tags": []
   },
   "outputs": [],
   "source": [
    "model_kwargs[\"system\"] = SYS_PROMPT_TEMPLATE2\n",
    "model2 = ChatBedrock(model_id=\"us.anthropic.claude-3-5-sonnet-20241022-v2:0\", region_name='us-west-2', model_kwargs=model_kwargs)\n",
    "prompt2 = ChatPromptTemplate.from_template(USR_PROMPT_TEMPLATE2)\n",
    "chain2 = prompt2 | model2 | StrOutputParser()"
   ]
  },
  {
   "cell_type": "markdown",
   "id": "c28d725d-dcda-4be5-8ffe-130ad299bb7c",
   "metadata": {},
   "source": [
    "#### 자연어 질문을 생성하는 프롬프트는 아래 형식으로 LLM에 전달됩니다."
   ]
  },
  {
   "cell_type": "code",
   "execution_count": 14,
   "id": "b3e377fc-8258-4125-9511-900e9056cfa5",
   "metadata": {
    "tags": []
   },
   "outputs": [
    {
     "name": "stdout",
     "output_type": "stream",
     "text": [
      " \n",
      "You are an SQL expert who can understand the intent behind a given SQL query. \n",
      "Translate the SQL query into a natural language request in Korean that a real user might make. \n",
      "\n",
      "- Keep your translation concise and conversational, mimicking how an actual user would ask for the information sought by the query. \n",
      "- Do not reference the <description> section directly and do not use a question form. \n",
      "- Ensure to include all conditions specified in the SQL query in the request.\n",
      "- Write possible business and functional purposes of the query.\n",
      "- Write very detailed purposes and motives of the query in detail.\n",
      "- Skip the preamble and phrase only the natural language request using a concise and straightforward tone without a verb ending. \n",
      "\n",
      "Human: \n",
      "<description>\n",
      "{'table': {'Invoice': 'Records details of transactions, linked to customers.'}, 'column': {'CustomerId': 'Foreign key that references the customer associated with this invoice.', 'Total': 'Total amount of the invoice.'}}\n",
      "</description>\n",
      "\n",
      "SQL: SELECT CustomerId, SUM(Total) AS TotalPurchase FROM Invoice GROUP BY CustomerId ORDER BY TotalPurchase DESC LIMIT 5\n",
      "\n"
     ]
    }
   ],
   "source": [
    "print(SYS_PROMPT_TEMPLATE2)\n",
    "print(prompt2.format(description=extracted_description, sql=queries[8]))"
   ]
  },
  {
   "cell_type": "code",
   "execution_count": 15,
   "id": "1a598413-330e-43b6-8bc6-7f8cb643436c",
   "metadata": {
    "tags": []
   },
   "outputs": [
    {
     "name": "stdout",
     "output_type": "stream",
     "text": [
      "요청:\n",
      "각 고객별 총 구매금액을 기준으로 상위 5명의 최우수 고객 데이터\n",
      "\n",
      "비즈니스 목적:\n",
      "- VIP 고객 식별 및 관리\n",
      "- 고객 구매 패턴 분석을 통한 매출 기여도 파악\n",
      "- 충성 고객 보상 프로그램 대상자 선정\n",
      "- 매출 집중도가 높은 핵심 고객층 파악\n",
      "\n",
      "상세 용도:\n",
      "1. 매출 기여도\n",
      "- 전체 매출에서 상위 고객이 차지하는 비중 분석\n",
      "- 고객 가치 기반 마케팅 예산 배분의 근거 자료\n",
      "\n",
      "2. 고객 관리 전략\n",
      "- VIP 맞춤형 서비스 제공을 위한 우수고객 선별\n",
      "- 이탈 방지를 위한 프리미엄 고객 모니터링\n",
      "- 구매력 높은 고객 특성 분석을 통한 타겟 마케팅\n",
      "\n",
      "3. 비즈니스 인사이트\n",
      "- 매출 의존도가 높은 고객군 파악\n",
      "- 수익성 분석 및 고객 포트폴리오 관리\n",
      "- 유사 고객 발굴을 위한 벤치마킹 데이터\n"
     ]
    }
   ],
   "source": [
    "response = chain2.invoke({\"sql\": queries[8], \"description\": extracted_description})\n",
    "print(response)"
   ]
  },
  {
   "cell_type": "markdown",
   "id": "0c1a2d45-ecaa-402d-8afd-e0c6ca616d28",
   "metadata": {},
   "source": [
    "#### 다음 쿼리에 대한 자연어 설명은 LLM에 의해 위와 같이 정의되었습니다.\n",
    "\n",
    "```SELECT CustomerId, SUM(Total) AS TotalPurchase FROM Invoice GROUP BY CustomerId ORDER BY TotalPurchase DESC LIMIT 5```\n",
    "\n",
    "#### 아래는 위 과정을 모든 SQL 쿼리에 대해 반복하는 스크립트입니다. (약 1~2분 소요됩니다)"
   ]
  },
  {
   "cell_type": "code",
   "execution_count": 16,
   "id": "57c7a078-d993-4afd-b460-45a0806dcf11",
   "metadata": {
    "tags": []
   },
   "outputs": [],
   "source": [
    "import os\n",
    "\n",
    "FILE_PATH_1 = './example_queries_temp.jsonl'\n",
    "def query_translation(table_info, queries, chain1, chain2):\n",
    "    if os.path.exists(FILE_PATH_1):\n",
    "        os.remove(FILE_PATH_1)\n",
    "\n",
    "    with open(FILE_PATH_1, 'a') as output_file:\n",
    "        for query in queries:\n",
    "            sql = query.strip()\n",
    "            \n",
    "            try:\n",
    "                response = chain1.invoke({\"sql\": sql})\n",
    "                schema = json.loads(response)\n",
    "            except json.JSONDecodeError:\n",
    "                print(response)\n",
    "                time.sleep(1)  \n",
    "\n",
    "            description = extract_descriptions(table_info, schema[\"table\"], schema[\"column\"])\n",
    "            \n",
    "            input = chain2.invoke({\"sql\": sql, \"description\": description})\n",
    "            # Write input and query to the file in JSON format\n",
    "            data = {\"input\": input, \"query\": sql}\n",
    "            output_file.write(json.dumps(data, ensure_ascii=False) + \"\\n\")\n",
    "            \n",
    "query_translation(schema_description, queries, chain1, chain2)"
   ]
  },
  {
   "cell_type": "markdown",
   "id": "2aaef577-90ef-41e9-89ad-49c4835a2685",
   "metadata": {},
   "source": [
    "#### 쿼리 변환이 완료된 결과는 `./lab3_text2sql_schema_preparation/example_queries_temp.jsonl` 파일에 저장되어 있습니다. "
   ]
  },
  {
   "cell_type": "code",
   "execution_count": 17,
   "id": "661cc2ab-3114-444c-bbec-b0f8fcc6fc75",
   "metadata": {
    "tags": []
   },
   "outputs": [
    {
     "name": "stdout",
     "output_type": "stream",
     "text": [
      "{'input': '요청:\\n모든 아티스트의 전체 정보 목록 조회\\n\\n비즈니스 목적:\\n- 음악/예술 관련 데이터베이스에서 등록된 모든 아티스트 현황 파악\\n- 아티스트 관리 및 카탈로그 구성을 위한 기초 데이터 확보\\n- 신규 콘텐츠 기획이나 협업 파트너 발굴을 위한 아티스트 풀 확인\\n\\n상세 의도:\\n1. 데이터베이스에 등록된 모든 아티스트의 기본 정보(ID, 이름 등)를 누락 없이 확인\\n2. 아티스트 데이터의 전반적인 현황 파악 및 데이터 품질 검증\\n3. 아티스트 관련 마케팅, 프로모션, 계약 관리 등을 위한 전체 리스트 확보\\n4. 시스템 내 등록된 아티스트 수 확인 및 데이터베이스 규모 파악\\n5. 향후 아티스트 관련 추가 분석이나 데이터 처리를 위한 기초 자료 수집', 'query': 'SELECT * FROM Artist'}\n",
      "{'input': '자연어 요청:\\n\"AC/DC가 발매한 모든 앨범 정보\"\\n\\n비즈니스 목적:\\n1. 특정 아티스트의 전체 디스코그래피 관리\\n2. 음반 매장의 재고 관리 및 주문 계획 수립\\n3. 팬들을 위한 아티스트별 음반 카탈로그 제공\\n4. 음악 스트리밍 서비스의 아티스트 페이지 구성\\n5. 음반사의 아티스트별 작품 포트폴리오 관리\\n\\n상세 의도:\\n1. AC/DC라는 특정 아티스트의 모든 앨범 데이터를 추출하여 해당 아티스트의 전체 작품 목록 파악\\n2. 앨범 ID, 제목 등 앨범과 관련된 모든 세부 정보를 포함한 완전한 데이터셋 확보\\n3. 서브쿼리를 통해 아티스트 이름으로부터 ID를 찾아 해당 아티스트의 앨범만을 정확하게 필터링\\n4. 아티스트의 전체 작품 이력을 분석하거나 표시하기 위한 기초 데이터 수집\\n5. 음반 판매, 스트리밍 서비스, 팬 페이지 등 다양한 용도로 활용 가능한 포괄적인 앨범 정보 확보', 'query': \"SELECT * FROM Album WHERE ArtistId = (SELECT ArtistId FROM Artist WHERE Name = 'AC/DC')\"}\n",
      "{'input': '요청:\\n\"Rock 장르에 속한 모든 음악 트랙 정보\"\\n\\n비즈니스 목적:\\n1. 음악 스트리밍/판매 플랫폼에서 Rock 장르 카테고리 구성\\n2. Rock 음악 전문 플레이리스트 또는 컬렉션 제작\\n3. Rock 장르 음악 인벤토리 관리 및 모니터링\\n4. 장르별 음악 카탈로그 분류 및 정리\\n\\n상세 의도:\\n1. Rock 장르의 전체 트랙 현황 파악을 통한 장르별 콘텐츠 분포 분석\\n2. Rock 음악 프로모션이나 마케팅 캠페인을 위한 대상 트랙 선별\\n3. Rock 장르 음악의 메타데이터 품질 검증 및 관리\\n4. 사용자 취향 분석을 위한 Rock 장르 음악 데이터 수집\\n5. Rock 장르 관련 음악 추천 시스템 구축을 위한 기초 데이터 확보\\n6. 장르별 카탈로그 균형 분석을 위한 Rock 장르 보유량 확인', 'query': \"SELECT * FROM Track WHERE GenreId = (SELECT GenreId FROM Genre WHERE Name = 'Rock')\"}\n",
      "{'input': '자연어 요청:\\n\"모든 트랙의 총 재생 시간\"\\n\\n비즈니스 목적:\\n1. 전체 음원 카탈로그의 총 재생 시간 파악\\n2. 스트리밍 서비스의 전체 콘텐츠 볼륨 측정\\n3. 서버 스토리지 용량 계획 수립\\n4. 음원 라이브러리 규모 평가\\n\\n상세 의도:\\n1. 음원 라이브러리의 전체적인 규모를 시간 단위로 파악하여 서비스의 콘텐츠 풍부도 측정\\n2. 스트리밍 서비스 운영에 필요한 서버 용량 및 대역폭 예측\\n3. 음원 카탈로그의 성장을 모니터링하기 위한 기준점 설정\\n4. 경쟁사와의 콘텐츠 볼륨 비교를 위한 메트릭 확보\\n5. 사용자에게 제공할 수 있는 총 청취 시간 산출\\n6. 음원 라이브러리 확장 계획 수립을 위한 기초 데이터 확보', 'query': 'SELECT SUM(Milliseconds) FROM Track'}\n",
      "{'input': '요청:\\n캐나다에 거주하는 모든 고객의 전체 정보 조회\\n\\n비즈니스 목적:\\n- 캐나다 시장 분석 및 고객 기반 파악\\n- 캐나다 지역 마케팅 캠페인 기획을 위한 고객 데이터 수집\\n- 캐나다 고객들의 구매 패턴과 선호도 분석\\n- 지역별 고객 서비스 최적화 전략 수립\\n\\n상세 활용 목적:\\n1. 지역 특화 서비스:\\n- 캐나다 현지 법률 및 규제 준수 확인\\n- 현지화된 제품/서비스 제공 계획 수립\\n- 캐나다 고객 맞춤형 지원 서비스 구축\\n\\n2. 마케팅 전략:\\n- 캐나다 시장 특화 프로모션 기획\\n- 지역별 타겟 마케팅 효율성 측정\\n- 현지 문화를 고려한 커뮤니케이션 전략 수립\\n\\n3. 비즈니스 확장:\\n- 캐나다 시장 성장 잠재력 평가\\n- 지역별 사업 확장 기회 발굴\\n- 현지 파트너십 구축 가능성 검토\\n\\n4. 고객 관리:\\n- 캐나다 고객 특성 이해 및 세분화\\n- 지역별 고객 만족도 모니터링\\n- 현지화된 고객 관리 프로그램 개발', 'query': \"SELECT * FROM Customer WHERE Country = 'Canada'\"}\n",
      "{'input': '자연어 요청:\\n\"앨범 ID가 5번인 트랙의 총 개수\"\\n\\n비즈니스 목적:\\n- 특정 앨범의 수록곡 수를 파악하여 앨범의 규모와 구성 확인\\n- 앨범 가격 책정, 제작 비용 산정, 재고 관리를 위한 기초 데이터 확보\\n- 앨범 완성도 및 수록곡 누락 여부 검증\\n\\n상세 용도:\\n1. 앨범 제작/유통:\\n- 실물 앨범 제작 시 필요한 트랙리스트 확인\\n- 디지털 음원 서비스 제공을 위한 트랙 수 검증\\n- 앨범 패키징 및 인쇄물 제작을 위한 정보 확인\\n\\n2. 품질 관리:\\n- 앨범의 데이터 무결성 검증\\n- 누락된 트랙이나 중복 트랙 확인\\n- 앨범 컨텐츠의 완전성 검사\\n\\n3. 마케팅/판매:\\n- 앨범 상품 정보 구성\\n- 스트리밍 서비스 트랙 수 표시\\n- 앨범 가치 산정을 위한 기초 자료\\n\\n4. 분석:\\n- 앨범 구성 통계 작성\\n- 유사 앨범과의 비교 분석\\n- 앨범 포맷별 트랙 수 패턴 파악', 'query': 'SELECT COUNT(*) FROM Track WHERE AlbumId = 5'}\n",
      "{'input': '요청:\\n전체 거래 내역 건수 확인\\n\\n비즈니스 목적:\\n- 전반적인 비즈니스 규모와 거래량 파악\\n- 시스템에 기록된 총 거래 데이터 현황 확인\\n- 매출 활동의 기본적인 지표 산출\\n\\n상세 의도:\\n1. 데이터 품질 관리\\n- 거래 기록의 완전성 검증\\n- 누락된 거래 기록 여부 확인\\n- 데이터베이스 정합성 점검\\n\\n2. 운영 분석\\n- 시스템 용량 계획 수립을 위한 기초 데이터 확보\\n- 백업 및 아카이빙 정책 수립의 근거 마련\\n- 데이터 처리 성능 예측을 위한 기준점 설정\\n\\n3. 비즈니스 인사이트\\n- 전체 거래 규모 기반의 사업 확장성 검토\\n- 인프라 투자 의사결정을 위한 기초 자료 활용\\n- 전반적인 비즈니스 활동량 측정', 'query': 'SELECT COUNT(*) FROM Invoice'}\n",
      "{'input': '자연어 요청:\\n\"재생 시간이 5분(300,000밀리초) 이상인 모든 음악 트랙 정보\"\\n\\n비즈니스/기능적 목적:\\n- 장시간 재생되는 곡들을 식별하여 플레이리스트나 앨범 구성 시 활용\\n- 라디오 편성이나 DJ 세트 구성 시 긴 곡들을 파악하여 시간 배분\\n- 스트리밍 서비스에서 데이터 사용량이 많은 트랙들을 파악\\n- 프리미엄 콘텐츠나 특별 에디션 트랙 식별 (긴 곡들은 보통 라이브, 리믹스, 또는 특별 버전인 경우가 많음)\\n\\n상세 목적/동기:\\n1. 콘텐츠 관리:\\n- 대용량 스토리지 계획을 위한 긴 트랙 파악\\n- 스트리밍 대역폭 사용량 예측\\n- 모바일 앱에서의 다운로드 시간 추정\\n\\n2. 프로그래밍 최적화:\\n- 라디오 방송 시간대별 편성 계획\\n- 이벤트나 공연 시간 계획\\n- 자동 플레이리스트 생성 시 시간 조절\\n\\n3. 사용자 경험:\\n- 긴 재생 시간을 선호하는 사용자들을 위한 맞춤형 추천\\n- 특정 장르(예: 클래식, 프로그레시브 록)의 대표작 식별\\n- 명상이나 요가 등 장시간 콘텐츠가 필요한 활동을 위한 트랙 선별', 'query': 'SELECT * FROM Track WHERE Milliseconds > 300000'}\n",
      "{'input': '요청:\\n각 고객별 총 구매금액을 기준으로 최상위 5명의 고객 데이터\\n\\n비즈니스 목적:\\n- VIP 고객 식별 및 관리\\n- 매출 기여도가 높은 핵심 고객층 파악\\n- 고객 등급 분류를 위한 기초 데이터 확보\\n- 타겟 마케팅 전략 수립을 위한 인사이트 도출\\n\\n상세 용도:\\n1. 매출 기여도:\\n- 전체 매출에서 상위 고객들의 기여도 분석\\n- 고객 집중도 및 의존도 평가\\n\\n2. 고객 관리:\\n- VIP 고객 맞춤형 서비스 제공\\n- 충성 고객 보상 프로그램 설계\\n- 이탈 방지를 위한 프리미엄 서비스 기획\\n\\n3. 마케팅 활용:\\n- 고가 상품 프로모션 대상 선정\\n- 신제품 얼리어답터 그룹 선정\\n- 구매력 높은 고객 특성 분석\\n\\n4. 비즈니스 전략:\\n- 수익성 높은 고객 세그먼트 파악\\n- 유사 고객 확보를 위한 전략 수립\\n- 매출 안정성 평가 및 리스크 관리', 'query': 'SELECT CustomerId, SUM(Total) AS TotalPurchase FROM Invoice GROUP BY CustomerId ORDER BY TotalPurchase DESC LIMIT 5'}\n",
      "{'input': '요청:\\n전체 직원 수 파악\\n\\n비즈니스 목적:\\n- 전반적인 인력 규모 파악\\n- 인사 관리 및 계획 수립을 위한 기초 데이터 확보\\n- 조직 규모 측정 및 모니터링\\n- 예산 계획 수립을 위한 기초 자료로 활용\\n\\n상세 용도:\\n1. 인력 운영 현황\\n- 현재 총 고용 인원 파악\\n- 조직 규모의 적정성 검토\\n- 부서별 인원 배치 계획 수립의 기준점으로 활용\\n\\n2. 경영 의사결정\\n- 신규 채용 규모 결정\\n- 조직 구조 개편 시 참고 자료\\n- 인건비 예산 책정의 기초\\n\\n3. 법적/행정적 용도\\n- 법정 의무고용 비율 준수 여부 확인\\n- 기업 규모 분류를 위한 기준 데이터\\n- 정부 보고용 통계 자료 작성\\n\\n4. 성과 분석\\n- 1인당 생산성 계산의 분모\\n- 인건비 효율성 분석\\n- 조직 성장률 측정의 기준점', 'query': 'SELECT COUNT(*) FROM Employee'}\n"
     ]
    }
   ],
   "source": [
    "with open(FILE_PATH_1, 'r') as file:\n",
    "    for line in file:\n",
    "        data = json.loads(line)\n",
    "        print(data)"
   ]
  },
  {
   "cell_type": "markdown",
   "id": "fc567324-1948-4c8d-ad41-d48a07473a8a",
   "metadata": {},
   "source": [
    "## Step 3: 샘플 쿼리 벡터 임베딩 및 OpenSearch 저장"
   ]
  },
  {
   "cell_type": "markdown",
   "id": "9ac40c19-7081-454f-8087-a364b66ee828",
   "metadata": {},
   "source": [
    "이제 <자연어 질문 & SQL 쿼리> 조합의 자연어 질문을 벡터로 임베딩하여, 사용자 질문과 유사한 SQL 쿼리를 찾아내기 용이하도록 저장해야 합니다.\n",
    "\n",
    "아래 구문은 OpenSearch 환경을 초기화합니다. (연결 생성 및 Index 초기화)"
   ]
  },
  {
   "cell_type": "code",
   "execution_count": 18,
   "id": "b82ea722-2763-4ab1-b2f1-a90e1e7b371e",
   "metadata": {
    "tags": []
   },
   "outputs": [
    {
     "name": "stdout",
     "output_type": "stream",
     "text": [
      "Existing index has been deleted. Create new one.\n"
     ]
    }
   ],
   "source": [
    "import yaml\n",
    "from opensearchpy import OpenSearch, RequestsHttpConnection\n",
    "INDEX_NAME = \"example_queries\"\n",
    "\n",
    "def load_opensearch_config():\n",
    "    with open(\"./libs/opensearch.yml\", 'r', encoding='utf-8') as file:\n",
    "        return yaml.safe_load(file)\n",
    "\n",
    "def init_opensearch(config):\n",
    "    mapping = {\"settings\": config['settings'], \"mappings\": config['mappings-sql']}\n",
    "    endpoint = opensearch_domain_endpoint\n",
    "    http_auth = (opensearch_user_id, opensearch_user_password)\n",
    "\n",
    "    os_client = OpenSearch(\n",
    "            hosts=[{'host': endpoint.replace(\"https://\", \"\"),'port': 443}],\n",
    "            http_auth=http_auth, \n",
    "            use_ssl=True,\n",
    "            verify_certs=True,\n",
    "            timeout=300,\n",
    "            connection_class=RequestsHttpConnection\n",
    "    )\n",
    "\n",
    "    create_os_index(os_client, mapping)\n",
    "    return os_client\n",
    "\n",
    "def create_os_index(os_client, mapping):\n",
    "    exists = os_client.indices.exists(INDEX_NAME)\n",
    "\n",
    "    if exists:\n",
    "        os_client.indices.delete(index=INDEX_NAME)\n",
    "        print(\"Existing index has been deleted. Create new one.\")\n",
    "    else:\n",
    "        print(\"Index does not exist, Create one.\")\n",
    "\n",
    "    os_client.indices.create(INDEX_NAME, body=mapping)\n",
    "\n",
    "config = load_opensearch_config()\n",
    "os_client = init_opensearch(config)"
   ]
  },
  {
   "cell_type": "markdown",
   "id": "7fea2db1-648b-4fd5-9186-9fc8abc6a20e",
   "metadata": {},
   "source": [
    "이제 앞에 만들었던 <자연어 질문 & SQL 쿼리>를 벡터 임베딩으로 변환하고, OpenSearch에 bulk indexing 할 수 있는 Data-Action 포맷으로 구성합니다."
   ]
  },
  {
   "cell_type": "code",
   "execution_count": 19,
   "id": "01cd7dd3-ad79-4953-ada5-bcc0e1c46026",
   "metadata": {
    "tags": []
   },
   "outputs": [
    {
     "name": "stderr",
     "output_type": "stream",
     "text": [
      "/tmp/ipykernel_5954/1904691214.py:4: LangChainDeprecationWarning: The class `BedrockEmbeddings` was deprecated in LangChain 0.2.11 and will be removed in 1.0. An updated version of the class exists in the :class:`~langchain-aws package and should be used instead. To use it run `pip install -U :class:`~langchain-aws` and import as `from :class:`~langchain_aws import BedrockEmbeddings``.\n",
      "  emb_model = BedrockEmbeddings(model_id=\"amazon.titan-embed-text-v2:0\", region_name='us-west-2', model_kwargs={\"dimensions\":1024})\n"
     ]
    }
   ],
   "source": [
    "from langchain_community.embeddings import BedrockEmbeddings\n",
    "\n",
    "FILE_PATH_2 = './example_queries.jsonl'\n",
    "emb_model = BedrockEmbeddings(model_id=\"amazon.titan-embed-text-v2:0\", region_name='us-west-2', model_kwargs={\"dimensions\":1024}) \n",
    "\n",
    "def input_embedding(emb_model):\n",
    "    num = 0\n",
    "    if os.path.exists(FILE_PATH_2):\n",
    "        os.remove(FILE_PATH_2)\n",
    "\n",
    "    with open(FILE_PATH_1, 'r') as input_file, open(FILE_PATH_2, 'a') as output_file:\n",
    "        for line in input_file:\n",
    "            data = json.loads(line)\n",
    "            input = data['input']\n",
    "            query = data['query']\n",
    "            \n",
    "            # Data part\n",
    "            body = { \"input\": input, \"query\": query, \"input_v\": emb_model.embed_query(input) }\n",
    "\n",
    "            # Action part\n",
    "            action = { \"index\": { \"_index\": INDEX_NAME, \"_id\": str(num) } }\n",
    "\n",
    "            # Write action and body to the file in correct bulk format\n",
    "            output_file.write(json.dumps(action, ensure_ascii=False) + \"\\n\")\n",
    "            output_file.write(json.dumps(body, ensure_ascii=False) + \"\\n\")\n",
    "\n",
    "            num += 1    \n",
    "\n",
    "input_embedding(emb_model)"
   ]
  },
  {
   "cell_type": "markdown",
   "id": "3cda2f81-7c57-4333-a095-3304ad1dabe9",
   "metadata": {},
   "source": [
    "#### 위 코드를 실행한 뒤 `./lab3_text2sql_schema_preparation/example_queries.jsonl` 파일을 열어보면, 변환된 임베딩을 확인할 수 있습니다."
   ]
  },
  {
   "cell_type": "code",
   "execution_count": 20,
   "id": "d151126f-16f1-45f5-9b11-ade378977981",
   "metadata": {
    "tags": []
   },
   "outputs": [
    {
     "name": "stdout",
     "output_type": "stream",
     "text": [
      "Bulk-inserted all items successfully.\n"
     ]
    }
   ],
   "source": [
    "with open(FILE_PATH_2, 'r') as file:\n",
    "    bulk_data = file.read()\n",
    "        \n",
    "response = os_client.bulk(body=bulk_data)\n",
    "if response[\"errors\"]:\n",
    "    print(\"There were errors during bulk indexing:\")\n",
    "    for item in response[\"items\"]:\n",
    "        if 'index' in item and item['index']['status'] >= 400:\n",
    "            print(f\"Error: {item['index']['error']['reason']}\")\n",
    "else:\n",
    "    print(\"Bulk-inserted all items successfully.\")"
   ]
  },
  {
   "cell_type": "markdown",
   "id": "a2b51586-09a7-4e02-8cb1-aae1ae0d9f96",
   "metadata": {},
   "source": [
    "#### 이제 OpenSearch에 저장을 완료했습니다."
   ]
  }
 ],
 "metadata": {
  "kernelspec": {
   "display_name": "conda_python3",
   "language": "python",
   "name": "conda_python3"
  },
  "language_info": {
   "codemirror_mode": {
    "name": "ipython",
    "version": 3
   },
   "file_extension": ".py",
   "mimetype": "text/x-python",
   "name": "python",
   "nbconvert_exporter": "python",
   "pygments_lexer": "ipython3",
   "version": "3.10.14"
  }
 },
 "nbformat": 4,
 "nbformat_minor": 5
}
